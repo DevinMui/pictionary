{
 "cells": [
  {
   "cell_type": "markdown",
   "metadata": {
    "colab_type": "text",
    "id": "tDybPQiEFQuJ"
   },
   "source": [
    "In this notebook, we will show how to load pre-trained models and draw things with sketch-rnn"
   ]
  },
  {
   "cell_type": "code",
   "execution_count": null,
   "metadata": {
    "colab": {},
    "colab_type": "code",
    "id": "k0GqvYgB9JLC"
   },
   "outputs": [],
   "source": [
    "# import the required libraries\n",
    "import numpy as np\n",
    "import time\n",
    "import random\n",
    "import cPickle\n",
    "import codecs\n",
    "import collections\n",
    "import os\n",
    "import math\n",
    "import json\n",
    "import tensorflow as tf\n",
    "from six.moves import xrange"
   ]
  },
  {
   "cell_type": "code",
   "execution_count": null,
   "metadata": {
    "colab": {},
    "colab_type": "code",
    "id": "UI4ZC__4FQuL"
   },
   "outputs": [],
   "source": [
    "# libraries required for visualisation:\n",
    "from IPython.display import SVG, display\n",
    "import PIL\n",
    "from PIL import Image\n",
    "import matplotlib.pyplot as plt\n",
    "\n",
    "# set numpy output to something sensible\n",
    "np.set_printoptions(precision=8, edgeitems=6, linewidth=200, suppress=True)"
   ]
  },
  {
   "cell_type": "code",
   "execution_count": null,
   "metadata": {
    "colab": {},
    "colab_type": "code",
    "id": "D7ObpAUh9jrk"
   },
   "outputs": [],
   "source": [
    "!pip install -qU svgwrite"
   ]
  },
  {
   "cell_type": "code",
   "execution_count": null,
   "metadata": {
    "colab": {},
    "colab_type": "code",
    "id": "4xYY-TUd9aiD"
   },
   "outputs": [],
   "source": [
    "import svgwrite # conda install -c omnia svgwrite=1.1.6"
   ]
  },
  {
   "cell_type": "code",
   "execution_count": null,
   "metadata": {
    "colab": {
     "base_uri": "https://localhost:8080/",
     "height": 34
    },
    "colab_type": "code",
    "id": "NzPSD-XRFQuP",
    "outputId": "daa0dd33-6d59-4d15-f437-d8ec787c8884"
   },
   "outputs": [],
   "source": [
    "tf.logging.info(\"TensorFlow Version: %s\", tf.__version__)\n"
   ]
  },
  {
   "cell_type": "code",
   "execution_count": null,
   "metadata": {
    "colab": {},
    "colab_type": "code",
    "id": "LebxcF4p90OR"
   },
   "outputs": [],
   "source": [
    "!pip install -q magenta"
   ]
  },
  {
   "cell_type": "code",
   "execution_count": null,
   "metadata": {
    "colab": {},
    "colab_type": "code",
    "id": "NkFS0E1zFQuU"
   },
   "outputs": [],
   "source": [
    "# import our command line tools\n",
    "from magenta.models.sketch_rnn.sketch_rnn_train import *\n",
    "from magenta.models.sketch_rnn.model import *\n",
    "from magenta.models.sketch_rnn.utils import *\n",
    "from magenta.models.sketch_rnn.rnn import *"
   ]
  },
  {
   "cell_type": "code",
   "execution_count": null,
   "metadata": {
    "colab": {},
    "colab_type": "code",
    "id": "GBde4xkEFQuX"
   },
   "outputs": [],
   "source": [
    "# little function that displays vector images and saves them to .svg\n",
    "def draw_strokes(data, factor=0.2, svg_filename = '/tmp/sketch_rnn/svg/sample.svg'):\n",
    "  tf.gfile.MakeDirs(os.path.dirname(svg_filename))\n",
    "  min_x, max_x, min_y, max_y = get_bounds(data, factor)\n",
    "  dims = (50 + max_x - min_x, 50 + max_y - min_y)\n",
    "  dwg = svgwrite.Drawing(svg_filename, size=dims)\n",
    "  dwg.add(dwg.rect(insert=(0, 0), size=dims,fill='white'))\n",
    "  lift_pen = 1\n",
    "  abs_x = 25 - min_x \n",
    "  abs_y = 25 - min_y\n",
    "  p = \"M%s,%s \" % (abs_x, abs_y)\n",
    "  command = \"m\"\n",
    "  for i in xrange(len(data)):\n",
    "    if (lift_pen == 1):\n",
    "      command = \"m\"\n",
    "    elif (command != \"l\"):\n",
    "      command = \"l\"\n",
    "    else:\n",
    "      command = \"\"\n",
    "    x = float(data[i,0])/factor\n",
    "    y = float(data[i,1])/factor\n",
    "    lift_pen = data[i, 2]\n",
    "    p += command+str(x)+\",\"+str(y)+\" \"\n",
    "  the_color = \"black\"\n",
    "  stroke_width = 1\n",
    "  dwg.add(dwg.path(p).stroke(the_color,stroke_width).fill(\"none\"))\n",
    "  dwg.save()\n",
    "  display(SVG(dwg.tostring()))\n",
    "\n",
    "# generate a 2D grid of many vector drawings\n",
    "def make_grid_svg(s_list, grid_space=10.0, grid_space_x=16.0):\n",
    "  def get_start_and_end(x):\n",
    "    x = np.array(x)\n",
    "    x = x[:, 0:2]\n",
    "    x_start = x[0]\n",
    "    x_end = x.sum(axis=0)\n",
    "    x = x.cumsum(axis=0)\n",
    "    x_max = x.max(axis=0)\n",
    "    x_min = x.min(axis=0)\n",
    "    center_loc = (x_max+x_min)*0.5\n",
    "    return x_start-center_loc, x_end\n",
    "  x_pos = 0.0\n",
    "  y_pos = 0.0\n",
    "  result = [[x_pos, y_pos, 1]]\n",
    "  for sample in s_list:\n",
    "    s = sample[0]\n",
    "    grid_loc = sample[1]\n",
    "    grid_y = grid_loc[0]*grid_space+grid_space*0.5\n",
    "    grid_x = grid_loc[1]*grid_space_x+grid_space_x*0.5\n",
    "    start_loc, delta_pos = get_start_and_end(s)\n",
    "\n",
    "    loc_x = start_loc[0]\n",
    "    loc_y = start_loc[1]\n",
    "    new_x_pos = grid_x+loc_x\n",
    "    new_y_pos = grid_y+loc_y\n",
    "    result.append([new_x_pos-x_pos, new_y_pos-y_pos, 0])\n",
    "\n",
    "    result += s.tolist()\n",
    "    result[-1][2] = 1\n",
    "    x_pos = new_x_pos+delta_pos[0]\n",
    "    y_pos = new_y_pos+delta_pos[1]\n",
    "  return np.array(result)"
   ]
  },
  {
   "cell_type": "markdown",
   "metadata": {
    "colab_type": "text",
    "id": "if7-UyxzFQuY"
   },
   "source": [
    "define the path of the model you want to load, and also the path of the dataset"
   ]
  },
  {
   "cell_type": "code",
   "execution_count": null,
   "metadata": {
    "colab": {},
    "colab_type": "code",
    "id": "Dipv1EbsFQuZ"
   },
   "outputs": [],
   "source": [
    "data_dir = 'http://github.com/hardmaru/sketch-rnn-datasets/raw/master/aaron_sheep/'\n",
    "models_root_dir = '/tmp/sketch_rnn/models'\n",
    "model_dir = '/tmp/sketch_rnn/models/aaron_sheep/layer_norm'"
   ]
  },
  {
   "cell_type": "code",
   "execution_count": null,
   "metadata": {
    "colab": {
     "base_uri": "https://localhost:8080/",
     "height": 68
    },
    "colab_type": "code",
    "id": "eaSqI0fIFQub",
    "outputId": "06df45a6-cc86-4f50-802e-25ae185037f7"
   },
   "outputs": [],
   "source": [
    "download_pretrained_models(models_root_dir=models_root_dir)"
   ]
  },
  {
   "cell_type": "code",
   "execution_count": null,
   "metadata": {
    "colab": {},
    "colab_type": "code",
    "id": "G4sRuxyn_1aO"
   },
   "outputs": [],
   "source": [
    "def load_env_compatible(data_dir, model_dir):\n",
    "  \"\"\"Loads environment for inference mode, used in jupyter notebook.\"\"\"\n",
    "  # modified https://github.com/tensorflow/magenta/blob/master/magenta/models/sketch_rnn/sketch_rnn_train.py\n",
    "  # to work with depreciated tf.HParams functionality\n",
    "  model_params = sketch_rnn_model.get_default_hparams()\n",
    "  with tf.gfile.Open(os.path.join(model_dir, 'model_config.json'), 'r') as f:\n",
    "    data = json.load(f)\n",
    "  fix_list = ['conditional', 'is_training', 'use_input_dropout', 'use_output_dropout', 'use_recurrent_dropout']\n",
    "  for fix in fix_list:\n",
    "    data[fix] = (data[fix] == 1)\n",
    "  model_params.parse_json(json.dumps(data))\n",
    "  return load_dataset(data_dir, model_params, inference_mode=True)\n",
    "\n",
    "def load_model_compatible(model_dir):\n",
    "  \"\"\"Loads model for inference mode, used in jupyter notebook.\"\"\"\n",
    "  # modified https://github.com/tensorflow/magenta/blob/master/magenta/models/sketch_rnn/sketch_rnn_train.py\n",
    "  # to work with depreciated tf.HParams functionality\n",
    "  model_params = sketch_rnn_model.get_default_hparams()\n",
    "  with tf.gfile.Open(os.path.join(model_dir, 'model_config.json'), 'r') as f:\n",
    "    data = json.load(f)\n",
    "  fix_list = ['conditional', 'is_training', 'use_input_dropout', 'use_output_dropout', 'use_recurrent_dropout']\n",
    "  for fix in fix_list:\n",
    "    data[fix] = (data[fix] == 1)\n",
    "  model_params.parse_json(json.dumps(data))\n",
    "\n",
    "  model_params.batch_size = 1  # only sample one at a time\n",
    "  eval_model_params = sketch_rnn_model.copy_hparams(model_params)\n",
    "  eval_model_params.use_input_dropout = 0\n",
    "  eval_model_params.use_recurrent_dropout = 0\n",
    "  eval_model_params.use_output_dropout = 0\n",
    "  eval_model_params.is_training = 0\n",
    "  sample_model_params = sketch_rnn_model.copy_hparams(eval_model_params)\n",
    "  sample_model_params.max_seq_len = 1  # sample one point at a time\n",
    "  return [model_params, eval_model_params, sample_model_params]"
   ]
  },
  {
   "cell_type": "code",
   "execution_count": null,
   "metadata": {
    "colab": {
     "base_uri": "https://localhost:8080/",
     "height": 153
    },
    "colab_type": "code",
    "id": "9m-jSAb3FQuf",
    "outputId": "debc045d-d15a-4b30-f747-fa4bcbd069fd"
   },
   "outputs": [],
   "source": [
    "[train_set, valid_set, test_set, hps_model, eval_hps_model, sample_hps_model] = load_env_compatible(data_dir, model_dir)"
   ]
  },
  {
   "cell_type": "code",
   "execution_count": null,
   "metadata": {
    "colab": {
     "base_uri": "https://localhost:8080/",
     "height": 479
    },
    "colab_type": "code",
    "id": "1pHS8TSgFQui",
    "outputId": "50b0e14d-ff0f-43bf-d996-90e9e6a1491e"
   },
   "outputs": [],
   "source": [
    "# construct the sketch-rnn model here:\n",
    "reset_graph()\n",
    "model = Model(hps_model)\n",
    "eval_model = Model(eval_hps_model, reuse=True)\n",
    "sample_model = Model(sample_hps_model, reuse=True)"
   ]
  },
  {
   "cell_type": "code",
   "execution_count": null,
   "metadata": {
    "colab": {},
    "colab_type": "code",
    "id": "1gxYLPTQFQuk"
   },
   "outputs": [],
   "source": [
    "sess = tf.InteractiveSession()\n",
    "sess.run(tf.global_variables_initializer())"
   ]
  },
  {
   "cell_type": "code",
   "execution_count": null,
   "metadata": {
    "colab": {
     "base_uri": "https://localhost:8080/",
     "height": 51
    },
    "colab_type": "code",
    "id": "bVlDyfN_FQum",
    "outputId": "fb41ce20-4c7f-4991-e9f6-559ea9b34a31"
   },
   "outputs": [],
   "source": [
    "# loads the weights from checkpoint into our model\n",
    "load_checkpoint(sess, model_dir)"
   ]
  },
  {
   "cell_type": "markdown",
   "metadata": {
    "colab_type": "text",
    "id": "EOblwpFeFQuq"
   },
   "source": [
    "We define two convenience functions to encode a stroke into a latent vector, and decode from latent vector to stroke."
   ]
  },
  {
   "cell_type": "code",
   "execution_count": null,
   "metadata": {
    "colab": {},
    "colab_type": "code",
    "id": "tMFlV487FQur"
   },
   "outputs": [],
   "source": [
    "def encode(input_strokes):\n",
    "  strokes = to_big_strokes(input_strokes).tolist()\n",
    "  strokes.insert(0, [0, 0, 1, 0, 0])\n",
    "  seq_len = [len(input_strokes)]\n",
    "  draw_strokes(to_normal_strokes(np.array(strokes)))\n",
    "  return sess.run(eval_model.batch_z, feed_dict={eval_model.input_data: [strokes], eval_model.sequence_lengths: seq_len})[0]"
   ]
  },
  {
   "cell_type": "code",
   "execution_count": null,
   "metadata": {
    "colab": {},
    "colab_type": "code",
    "id": "1D5CV7ZlFQut"
   },
   "outputs": [],
   "source": [
    "def decode(z_input=None, draw_mode=True, temperature=0.1, factor=0.2):\n",
    "  z = None\n",
    "  if z_input is not None:\n",
    "    z = [z_input]\n",
    "  sample_strokes, m = sample(sess, sample_model, seq_len=eval_model.hps.max_seq_len, temperature=temperature, z=z)\n",
    "  strokes = to_normal_strokes(sample_strokes)\n",
    "  if draw_mode:\n",
    "    draw_strokes(strokes, factor)\n",
    "  return strokes"
   ]
  },
  {
   "cell_type": "code",
   "execution_count": null,
   "metadata": {
    "colab": {
     "base_uri": "https://localhost:8080/",
     "height": 123
    },
    "colab_type": "code",
    "id": "fUOAvRQtFQuw",
    "outputId": "c8e9a1c3-28db-4263-ac67-62ffece1e1e0"
   },
   "outputs": [],
   "source": [
    "# get a sample drawing from the test set, and render it to .svg\n",
    "stroke = test_set.random_sample()\n",
    "draw_strokes(stroke)"
   ]
  },
  {
   "cell_type": "markdown",
   "metadata": {
    "colab_type": "text",
    "id": "j114Re2JFQuz"
   },
   "source": [
    "Let's try to encode the sample stroke into latent vector $z$"
   ]
  },
  {
   "cell_type": "code",
   "execution_count": null,
   "metadata": {
    "colab": {
     "base_uri": "https://localhost:8080/",
     "height": 123
    },
    "colab_type": "code",
    "id": "DBRjPBo-FQu0",
    "outputId": "e089dc78-88e3-44c6-ed7e-f1844471f47f"
   },
   "outputs": [],
   "source": [
    "z = encode(stroke)"
   ]
  },
  {
   "cell_type": "code",
   "execution_count": null,
   "metadata": {
    "colab": {
     "base_uri": "https://localhost:8080/",
     "height": 124
    },
    "colab_type": "code",
    "id": "-37v6eZLFQu5",
    "outputId": "5ddac2f2-5b3b-4cd7-b81f-7a8fa374aa6b"
   },
   "outputs": [],
   "source": [
    "_ = decode(z, temperature=0.8) # convert z back to drawing at temperature of 0.8"
   ]
  },
  {
   "cell_type": "markdown",
   "metadata": {
    "colab_type": "text",
    "id": "M5ft6IEBFQu9"
   },
   "source": [
    "Create generated grid at various temperatures from 0.1 to 1.0"
   ]
  },
  {
   "cell_type": "code",
   "execution_count": null,
   "metadata": {
    "colab": {
     "base_uri": "https://localhost:8080/",
     "height": 130
    },
    "colab_type": "code",
    "id": "BuhaZI0aFQu9",
    "outputId": "d87d4b00-30c2-4302-bec8-46566ef26922"
   },
   "outputs": [],
   "source": [
    "stroke_list = []\n",
    "for i in range(10):\n",
    "  stroke_list.append([decode(z, draw_mode=False, temperature=0.1*i+0.1), [0, i]])\n",
    "stroke_grid = make_grid_svg(stroke_list)\n",
    "draw_strokes(stroke_grid)"
   ]
  },
  {
   "cell_type": "markdown",
   "metadata": {
    "colab_type": "text",
    "id": "4xiwp3_DFQvB"
   },
   "source": [
    "Latent Space Interpolation Example between $z_0$ and $z_1$"
   ]
  },
  {
   "cell_type": "code",
   "execution_count": null,
   "metadata": {
    "colab": {
     "base_uri": "https://localhost:8080/",
     "height": 123
    },
    "colab_type": "code",
    "id": "WSX0uvZTFQvD",
    "outputId": "cd67af4e-5ae6-4327-876e-e1385dadbafc"
   },
   "outputs": [],
   "source": [
    "# get a sample drawing from the test set, and render it to .svg\n",
    "z0 = z\n",
    "_ = decode(z0)"
   ]
  },
  {
   "cell_type": "code",
   "execution_count": null,
   "metadata": {
    "colab": {
     "base_uri": "https://localhost:8080/",
     "height": 194
    },
    "colab_type": "code",
    "id": "jQf99TxOFQvH",
    "outputId": "4265bd5f-8c66-494e-b26e-d3ac874d69bb"
   },
   "outputs": [],
   "source": [
    "stroke = test_set.random_sample()\n",
    "z1 = encode(stroke)\n",
    "_ = decode(z1)"
   ]
  },
  {
   "cell_type": "markdown",
   "metadata": {
    "colab_type": "text",
    "id": "vFwPna6uFQvS"
   },
   "source": [
    "Let's load the Flamingo Model, and try Unconditional (Decoder-Only) Generation"
   ]
  },
  {
   "cell_type": "code",
   "execution_count": null,
   "metadata": {
    "colab": {},
    "colab_type": "code",
    "id": "HH-YclgNFQvT"
   },
   "outputs": [],
   "source": [
    "model_dir = '/tmp/sketch_rnn/models/flamingo/lstm_uncond'"
   ]
  },
  {
   "cell_type": "code",
   "execution_count": null,
   "metadata": {
    "colab": {},
    "colab_type": "code",
    "id": "-Znvy3KxFQvU"
   },
   "outputs": [],
   "source": [
    "[hps_model, eval_hps_model, sample_hps_model] = load_model_compatible(model_dir)"
   ]
  },
  {
   "cell_type": "code",
   "execution_count": null,
   "metadata": {
    "colab": {
     "base_uri": "https://localhost:8080/",
     "height": 221
    },
    "colab_type": "code",
    "id": "cqDNK1cYFQvZ",
    "outputId": "d346d57c-f51a-4286-ba55-705bc27d4d0d"
   },
   "outputs": [],
   "source": [
    "# construct the sketch-rnn model here:\n",
    "reset_graph()\n",
    "model = Model(hps_model)\n",
    "eval_model = Model(eval_hps_model, reuse=True)\n",
    "sample_model = Model(sample_hps_model, reuse=True)"
   ]
  },
  {
   "cell_type": "code",
   "execution_count": null,
   "metadata": {
    "colab": {},
    "colab_type": "code",
    "id": "7wzerSI6FQvd"
   },
   "outputs": [],
   "source": [
    "sess = tf.InteractiveSession()\n",
    "sess.run(tf.global_variables_initializer())"
   ]
  },
  {
   "cell_type": "code",
   "execution_count": null,
   "metadata": {
    "colab": {
     "base_uri": "https://localhost:8080/",
     "height": 51
    },
    "colab_type": "code",
    "id": "6mzk8KjOFQvf",
    "outputId": "c450a6c6-22ee-4a58-8451-443462b42d58"
   },
   "outputs": [],
   "source": [
    "# loads the weights from checkpoint into our model\n",
    "load_checkpoint(sess, model_dir)"
   ]
  },
  {
   "cell_type": "code",
   "execution_count": null,
   "metadata": {
    "colab": {},
    "colab_type": "code",
    "id": "X88CgcyuFQvh"
   },
   "outputs": [],
   "source": [
    "# randomly unconditionally generate 10 examples\n",
    "N = 10\n",
    "reconstructions = []\n",
    "for i in range(N):\n",
    "  reconstructions.append([decode(temperature=0.5, draw_mode=False), [0, i]])"
   ]
  },
  {
   "cell_type": "code",
   "execution_count": null,
   "metadata": {
    "colab": {
     "base_uri": "https://localhost:8080/",
     "height": 149
    },
    "colab_type": "code",
    "id": "k57REtd_FQvj",
    "outputId": "8bd69652-9d1d-475e-fc64-f205cf6b9ed1"
   },
   "outputs": [],
   "source": [
    "stroke_grid = make_grid_svg(reconstructions)\n",
    "draw_strokes(stroke_grid)"
   ]
  },
  {
   "cell_type": "markdown",
   "metadata": {
    "colab_type": "text",
    "id": "L-rJ0iUQFQvl"
   },
   "source": [
    "Let's load the owl model, and generate two sketches using two random IID gaussian latent vectors"
   ]
  },
  {
   "cell_type": "code",
   "execution_count": 0,
   "metadata": {
    "colab": {},
    "colab_type": "code",
    "id": "of4SWwGdFQvm"
   },
   "outputs": [],
   "source": [
    "model_dir = '/tmp/sketch_rnn/models/owl/lstm'"
   ]
  },
  {
   "cell_type": "code",
   "execution_count": 59,
   "metadata": {
    "colab": {
     "base_uri": "https://localhost:8080/",
     "height": 255
    },
    "colab_type": "code",
    "id": "jJiSZFQeFQvp",
    "outputId": "f84360ca-c2be-482f-db57-41b5ecc05768"
   },
   "outputs": [
    {
     "name": "stdout",
     "output_type": "stream",
     "text": [
      "INFO:tensorflow:Model using gpu.\n",
      "INFO:tensorflow:Input dropout mode = False.\n",
      "INFO:tensorflow:Output dropout mode = False.\n",
      "INFO:tensorflow:Recurrent dropout mode = False.\n",
      "INFO:tensorflow:Model using gpu.\n",
      "INFO:tensorflow:Input dropout mode = 0.\n",
      "INFO:tensorflow:Output dropout mode = 0.\n",
      "INFO:tensorflow:Recurrent dropout mode = 0.\n",
      "INFO:tensorflow:Model using gpu.\n",
      "INFO:tensorflow:Input dropout mode = 0.\n",
      "INFO:tensorflow:Output dropout mode = 0.\n",
      "INFO:tensorflow:Recurrent dropout mode = 0.\n",
      "INFO:tensorflow:Loading model /tmp/sketch_rnn/models/owl/lstm/vector.\n",
      "INFO:tensorflow:Restoring parameters from /tmp/sketch_rnn/models/owl/lstm/vector\n"
     ]
    }
   ],
   "source": [
    "[hps_model, eval_hps_model, sample_hps_model] = load_model_compatible(model_dir)\n",
    "# construct the sketch-rnn model here:\n",
    "reset_graph()\n",
    "model = Model(hps_model)\n",
    "eval_model = Model(eval_hps_model, reuse=True)\n",
    "sample_model = Model(sample_hps_model, reuse=True)\n",
    "sess = tf.InteractiveSession()\n",
    "sess.run(tf.global_variables_initializer())\n",
    "# loads the weights from checkpoint into our model\n",
    "load_checkpoint(sess, model_dir)"
   ]
  },
  {
   "cell_type": "code",
   "execution_count": 60,
   "metadata": {
    "colab": {
     "base_uri": "https://localhost:8080/",
     "height": 141
    },
    "colab_type": "code",
    "id": "vR4TDoi5FQvr",
    "outputId": "db08cb2c-952c-4949-d2b0-94c11351264b"
   },
   "outputs": [
    {
     "data": {
      "image/svg+xml": [
       "<svg baseProfile=\"full\" height=\"120.184078347\" version=\"1.1\" width=\"98.8725474746\" xmlns=\"http://www.w3.org/2000/svg\" xmlns:ev=\"http://www.w3.org/2001/xml-events\" xmlns:xlink=\"http://www.w3.org/1999/xlink\"><defs/><rect fill=\"white\" height=\"120.184078347\" width=\"98.8725474746\" x=\"0\" y=\"0\"/><path d=\"M41.5331514304,47.8121304913 m-0.132065089419,-0.818965733051 l-1.78446769714,-4.37339872122 -0.449359863997,-1.68071240187 l0.000442053933511,-3.18809241056 0.000388614498661,-3.89637112617 l0.346569791436,-1.25295981765 1.10776923597,-1.88584446907 l1.73459753394,-1.50131702423 2.03410193324,-0.757536664605 l1.99948683381,-0.00102532932942 0.786211192608,0.968269556761 l0.787319988012,2.56595700979 0.000546700066479,4.06032085419 l-0.822296440601,3.35661351681 -1.45263329148,2.40721821785 l-1.8565261364,1.62552013993 -2.165376544,0.877661034465 l-1.34748280048,0.000444044126198 m15.3083527088,-0.802424028516 l-1.47368788719,-1.27479910851 -1.06197156012,-2.65573889017 l0.000208061137528,-4.3788933754 0.000424580211984,-4.40278887749 l0.612830072641,-1.24189786613 0.911226272583,-0.867653787136 l2.1902307868,-0.0012513724505 2.43894606829,-4.11187374993e-05 l1.87056452036,0.885151997209 1.50832056999,1.92514464259 l0.857977494597,2.64217227697 0.00038065478293,4.15196985006 l-0.435804836452,1.60096615553 -1.34428799152,2.02306777239 l-1.8200494349,1.43815994263 -2.15610936284,0.813227519393 l-1.99906826019,-0.00274521386018 -0.792735591531,-0.654452368617 m-5.3206551075,-0.570695027709 l0.650407522917,3.24591726065 0.431762933731,3.05901706219 l1.05495944619,0.348732098937 1.48608103395,-3.38784664869 l0.99411688745,-2.4404284358 m-12.5001680851,-17.9557824135 l-1.74334436655,-0.494269132614 -2.9695045948,-0.319730080664 l-1.87135264277,0.192461144179 -3.49551528692,1.5555383265 l-2.48406752944,2.06320300698 -1.80969551206,2.53702431917 l-1.31562590599,3.0613130331 -1.043523103,5.44697701931 l0.000178788177436,6.89047813416 0.852816924453,4.29370284081 l2.60408937931,6.39090538025 2.51832842827,4.09500092268 l5.35060226917,7.79427945614 2.07839220762,4.61394906044 l1.2106475234,4.54003036022 0.788104310632,4.97067660093 l0.452739298344,5.35718619823 0.114500746131,3.70851904154 l-0.181541219354,2.67283350229 m2.99266695976,-69.4676494598 l3.46948355436,-0.592494606972 4.990683496,-0.0154769234359 l7.8266787529,0.000340488804795 3.68951737881,0.682502835989 l3.12869757414,1.26171424985 2.70443201065,1.93808957934 l2.12300464511,2.56196171045 1.39556929469,3.11388999224 l0.762749612331,3.80722731352 0.000205539708986,6.73621177673 l-0.92931471765,4.54613059759 -1.62916317582,4.4717541337 l-4.26714062691,10.0283360481 -1.95177778602,5.89771330357 l-1.39518469572,6.74194931984 -0.816034302115,6.8567699194 l0.000380763995054,5.70140123367 0.916537940502,3.6203455925 m-24.9645543098,-40.7061433792 l-0.676299929619,1.41931325197 \" fill=\"none\" stroke=\"black\" stroke-width=\"1\"/></svg>"
      ],
      "text/plain": [
       "<IPython.core.display.SVG object>"
      ]
     },
     "metadata": {
      "tags": []
     },
     "output_type": "display_data"
    }
   ],
   "source": [
    "z_0 = np.random.randn(eval_model.hps.z_size)\n",
    "_ = decode(z_0)"
   ]
  },
  {
   "cell_type": "code",
   "execution_count": 61,
   "metadata": {
    "colab": {
     "base_uri": "https://localhost:8080/",
     "height": 124
    },
    "colab_type": "code",
    "id": "ZX23lTnpFQvt",
    "outputId": "247052f2-a0f3-4046-83d6-d08e0429fafb"
   },
   "outputs": [
    {
     "data": {
      "image/svg+xml": [
       "<svg baseProfile=\"full\" height=\"103.156437427\" version=\"1.1\" width=\"76.648305431\" xmlns=\"http://www.w3.org/2000/svg\" xmlns:ev=\"http://www.w3.org/2001/xml-events\" xmlns:xlink=\"http://www.w3.org/1999/xlink\"><defs/><rect fill=\"white\" height=\"103.156437427\" width=\"76.648305431\" x=\"0\" y=\"0\"/><path d=\"M30.8883420622,36.6583835035 m-0.995773300529,-0.962532013655 l-1.25780984759,-0.218019597232 -1.40090942383,0.992660149932 l-0.372393801808,1.26535490155 0.000324942920997,2.54081487656 l2.14915663004,1.37105837464 2.84446626902,-0.038248966448 l1.78298652172,-1.40427827835 0.542310960591,-1.2151530385 l0.000573818178964,-1.9342289865 -1.05938784778,-0.939038023353 l-1.65580317378,-0.310601554811 -1.80457934737,-0.000348676258 m14.6391928196,-0.161158926785 l-2.02486693859,-0.307609159499 -1.20914362371,0.38025662303 l-0.739323794842,1.18445441127 0.000388190856029,2.24003642797 l0.622321628034,1.16408839822 1.26943454146,0.639028996229 l2.31054648757,-0.00103231774119 1.11591532826,-1.05773642659 l0.44213116169,-1.17794558406 0.000388732260035,-1.77200719714 l-1.0331839323,-0.994495749474 -1.20821401477,-0.38865339011 m-16.152588129,-3.77420336008 l-0.467010885477,-1.32236272097 0.000216794560401,-2.23593533039 l0.536889433861,-0.951604396105 1.89497917891,-1.54288008809 l1.02331995964,-0.484534986317 1.67512059212,2.78331547976 l1.01098768413,2.12751790881 1.01871103048,0.583166591823 l2.8339150548,-0.00180373142939 3.3438757062,-0.00134693458676 l1.97848573327,-0.408469550312 1.85415565968,-2.65968948603 l1.46219432354,-1.96148216724 0.988113284111,-0.702736005187 l0.665459409356,1.20057038963 0.367847532034,3.80023956299 l0.896093249321,2.48109221458 1.19089074433,2.09763258696 l1.12107351422,2.68811970949 0.558211691678,2.99764633179 l0.000272821780527,4.86015558243 -0.471499115229,2.04992577434 l-1.32380709052,2.65444427729 -2.05463215709,2.4544724822 l-1.53617039323,1.19459815323 -2.56061851978,1.20031863451 l-1.98727488518,0.490378327668 -3.72636377811,-0.00252463243669 l-3.93502652645,-0.00249128468568 -4.22447443008,-1.91017463803 l-1.24039359391,-0.983265340328 -1.62764251232,-2.204002738 l-1.05991430581,-2.19169437885 -0.900488123298,-3.36152017117 l0.000405741848226,-5.28376400471 0.902573391795,-2.9702681303 l1.1107198149,-2.02355161309 1.63499593735,-1.74139678478 m1.9375500083,13.9832317829 l0.312917456031,1.85824751854 0.11474234052,4.12313699722 l-0.0538875116035,7.91432976723 -0.643966719508,4.88242715597 l0.000561536653549,5.3577375412 1.29527136683,2.97560691833 l1.7825640738,2.00202897191 m16.6705226898,-28.1058692932 l0.00361886399332,1.26658275723 0.000215576201299,6.46810352802 l-0.537006482482,6.70796096325 -0.929316952825,6.25021696091 l-1.0363136977,3.4180906415 -1.37526676059,2.76081353426 l-1.60482779145,1.93586409092 -1.80750474334,1.16599790752 l-2.25972115993,0.696989372373 -3.09742212296,-0.00153533750563 l-3.02612900734,-1.44728317857 -1.41145452857,-1.26603841782 l-0.82351744175,-1.33597552776 m3.1371742487,-28.3551907539 l-0.547703653574,1.39112636447 0.000170127077581,3.94152343273 l-0.315908491611,3.29748153687 0.000404399033869,5.2682608366 l0.397268608212,3.4574136138 0.783703550696,2.95529693365 l1.17390699685,2.57992863655 1.51531383395,2.06996172667 l1.84660971165,1.4368082583 2.14215010405,0.769138410687 l2.56978332996,-0.00158462222316 1.12708255649,-0.430434010923 l1.45648032427,-1.51706874371 1.08785569668,-2.03530088067 l0.758628696203,-2.57168382406 0.000484488446091,-6.29753828049 l-1.50331735611,-7.86222159863 -0.973793566227,-2.93035626411 l-1.37418434024,-2.40955933928 m-8.96973013878,5.24879395962 l0.316646844149,3.97685259581 -0.293312165886,5.00504136086 l-1.03661946952,4.10920888186 -1.09365604818,2.68685340881 l-1.08828380704,1.99293076992 m12.7954661846,-18.26218009 l-0.208275709301,1.44114002585 0.000343079009326,6.0398119688 l0.660030916333,4.37685281038 1.24237768352,3.50796490908 l1.68879404664,2.58156120777 1.7774233222,1.44173279405 \" fill=\"none\" stroke=\"black\" stroke-width=\"1\"/></svg>"
      ],
      "text/plain": [
       "<IPython.core.display.SVG object>"
      ]
     },
     "metadata": {
      "tags": []
     },
     "output_type": "display_data"
    }
   ],
   "source": [
    "z_1 = np.random.randn(eval_model.hps.z_size)\n",
    "_ = decode(z_1)"
   ]
  },
  {
   "cell_type": "markdown",
   "metadata": {
    "colab_type": "text",
    "id": "7FjQsF_2FQvv"
   },
   "source": [
    "Let's interpolate between the two owls $z_0$ and $z_1$"
   ]
  },
  {
   "cell_type": "code",
   "execution_count": 0,
   "metadata": {
    "colab": {},
    "colab_type": "code",
    "id": "u6G37E8_FQvw"
   },
   "outputs": [],
   "source": [
    "z_list = [] # interpolate spherically between z_0 and z_1\n",
    "N = 10\n",
    "for t in np.linspace(0, 1, N):\n",
    "  z_list.append(slerp(z_0, z_1, t))\n",
    "# for every latent vector in z_list, sample a vector image\n",
    "reconstructions = []\n",
    "for i in range(N):\n",
    "  reconstructions.append([decode(z_list[i], draw_mode=False, temperature=0.1), [0, i]])"
   ]
  },
  {
   "cell_type": "code",
   "execution_count": 63,
   "metadata": {
    "colab": {
     "base_uri": "https://localhost:8080/",
     "height": 149
    },
    "colab_type": "code",
    "id": "OULjMktmFQvx",
    "outputId": "94b7b68e-9c57-4a1b-b216-83770fa4be81"
   },
   "outputs": [
    {
     "data": {
      "image/svg+xml": [
       "<svg baseProfile=\"full\" height=\"127.634528333\" version=\"1.1\" width=\"823.798878973\" xmlns=\"http://www.w3.org/2000/svg\" xmlns:ev=\"http://www.w3.org/2001/xml-events\" xmlns:xlink=\"http://www.w3.org/1999/xlink\"><defs/><rect fill=\"white\" height=\"127.634528333\" width=\"823.798878973\" x=\"0\" y=\"0\"/><path d=\"M25,39.7206334291 m0.0,0.0 m30.5419966019,11.0517369621 l-0.130790295079,-0.821970626712 -1.56297296286,-3.44355881214 l-0.810060948133,-2.39335089922 0.000479867303511,-3.22102040052 l0.00033964850445,-3.4874728322 0.361222736537,-1.25992178917 l1.79179653525,-2.81430184841 0.968853756785,-0.829446166754 l0.976286008954,-0.349083021283 1.55968084931,-0.00183026262675 l1.69345319271,0.000776153538027 1.94590568542,0.8236579597 l1.20501965284,1.21577709913 1.11128941178,2.25825056434 l0.554293617606,2.93825089931 0.000441627125838,4.22034591436 l-0.898757427931,2.63696163893 -1.72121822834,2.13380008936 l-2.23780155182,1.35028481483 -2.57068812847,0.560129880905 l-2.11540162563,-0.000537940577487 m13.1173753738,-1.12937137485 l-1.45248651505,-2.17158839107 -0.858646780252,-3.06270509958 l0.000175498753379,-4.44179207087 0.000373504044546,-4.57446634769 l0.627821683884,-1.24458014965 2.52491861582,-1.80173784494 l2.6212644577,-0.278210286051 2.24212855101,-0.000668502034387 l2.06600576639,0.917371958494 1.75203874707,1.91701054573 l1.115347296,2.70106256008 0.000310058385367,4.01920646429 l-0.420222841203,1.88330933452 -1.32658526301,2.41520762444 l-2.9484218359,2.84097313881 -2.43803426623,1.01730525494 l-2.31468617916,-0.00315562268952 -0.943105444312,-0.416952967644 m-5.04852354527,-1.22439056635 l0.805781632662,3.52566123009 0.493544861674,3.00472974777 l1.0788359493,0.254272762686 1.5034507215,-3.73510450125 l0.94768114388,-2.33487918973 0.478246323764,-1.21703073382 m-13.7574493885,-16.3546526432 l-1.78905293345,-0.4019164294 -3.13840001822,-0.238769985735 l-3.06999534369,0.323610752821 -2.62113779783,1.05864740908 l-1.41331672668,1.06020323932 -2.23443478346,3.11014682055 l-1.25897288322,3.24561059475 -0.690835565329,3.78885805607 l0.000223516690312,7.2227948904 0.456801503897,2.63458311558 l3.6786660552,9.34825003147 2.47850447893,4.08075898886 l4.38423395157,5.09459018707 2.70667612553,3.2701292634 l1.95724636316,4.00763303041 1.35410264134,4.67128992081 l1.00941762328,5.45493721962 0.548808388412,4.55319613218 l0.233230181038,3.7197431922 0.100202523172,1.58373504877 m2.68061488867,-68.3304214478 l3.91832828522,-0.852669924498 5.00140190125,-0.116617726162 l6.57204866409,-0.000800323759904 5.22561311722,0.964443534613 l3.02044928074,1.42885655165 2.4911904335,2.16459602118 l1.7647318542,2.68096029758 1.05926975608,3.27105551958 l0.467811375856,4.00178968906 0.000126303402794,6.92094147205 l-0.868806540966,4.39922660589 -1.62944063544,4.47579175234 l-3.5293468833,6.51094794273 -1.19311966002,2.8612524271 l-1.67739748955,5.55614352226 -1.27475112677,6.94986104965 l-0.828429609537,7.33003377914 0.00036673311115,6.69217407703 l0.982491523027,3.42833697796 m52.8225331692,-51.353654896 l-0.179362148046,-0.903369262815 -1.62920743227,-3.28932881355 l-0.906066149473,-2.49898999929 0.00051035771321,-2.59266883135 l0.000347062414221,-3.56523901224 0.417044311762,-1.28570497036 l0.714336559176,-1.13926000893 1.56329080462,-1.13759756088 l2.05199196935,-0.552231259644 1.97985470295,-0.00113819012768 l1.85451850295,-0.00093373026175 1.81085169315,0.768176540732 l1.10954836011,1.12643048167 1.08412787318,2.30088368058 l0.000448344617325,3.53681355715 -0.878088846803,2.79807418585 l-1.68571338058,2.35794946551 -2.19275161624,1.60138115287 l-2.64548152685,0.894314572215 -1.87815189362,-0.000594626653765 m12.3930037022,-0.617486909032 l-1.52933612466,-1.72315716743 -0.887011662126,-2.75651812553 l0.000182019357453,-4.42476809025 1.3707883656,-2.84632474184 l1.5728290379,-1.57970935106 1.64202809334,-0.91292925179 l2.6449996233,-0.00135166454129 2.36448422074,-0.000639804275124 l1.95006385446,0.951049178839 1.55169978738,2.00336158276 l0.812436565757,2.56968408823 0.000299139574054,3.45813453197 l-0.477933250368,1.59525990486 -2.22390562296,2.8340998292 l-2.29320973158,1.43437877297 -2.74989366531,0.754635408521 l-2.61219710112,-0.00356734264642 -1.03377133608,-0.620433427393 m-4.60207283497,-0.27431782335 l0.608859285712,3.18827778101 0.463679693639,3.00901681185 l1.08114145696,0.45674752444 1.53460562229,-3.44289124012 l1.07980199158,-2.40180313587 0.454280935228,-1.312366575 m-15.1842451096,-15.8654558659 l-1.02997995913,-0.825017020106 -1.45095005631,-1.16798393428 l-2.01779410243,-1.55357927084 -1.23885072768,-0.704525560141 l-1.02319248021,0.634009987116 -0.607139021158,3.50802153349 l0.00012148650967,5.41070580482 0.611173994839,7.88442909718 l0.465482994914,4.43518131971 0.323769040406,4.41545695066 l0.000449147046311,6.0367423296 -0.20706359297,5.07031857967 l-0.503461919725,5.78731417656 0.000560363514523,6.66669249535 l-0.471485070884,7.2888302803 -0.438506193459,5.49879789352 l-0.3237805143,3.67199778557 0.000548661919311,3.57043743134 m11.104183197,-66.2080860138 l2.00373500586,-1.04878537357 4.31662708521,-0.776256173849 l6.5754455328,-0.13563061133 5.74898183346,0.000452322128695 l4.55986618996,0.75202472508 1.8173776567,0.771940723062 l2.62529999018,2.26868197322 1.49997621775,2.55439907312 l1.29644319415,4.92528170347 0.410122610629,4.46929842234 l0.000335159820679,9.58780944347 -0.946886688471,7.90147304535 l-1.84304475784,12.9119610786 -0.206860285252,4.28757786751 l-0.58015242219,8.0197685957 0.000626934779575,7.74769306183 l0.422867685556,3.20501327515 m-31.8870425224,-40.0462150574 l-0.334677062929,2.4007178843 -0.906986519694,4.16456341743 l-2.31765970588,11.4139783382 -1.26206621528,12.5019919872 l0.000203833387786,6.15783154964 0.895226895809,4.23945695162 l1.37828230858,2.98432528973 1.79141759872,2.06503599882 l1.0400044173,0.639289170504 3.35244834423,-0.000165914370882 l2.1275998652,-1.51463985443 1.86899617314,-2.10721492767 l1.48964449763,-2.50050365925 2.00253859162,-6.01501584053 l1.29271104932,-4.70144987106 1.34775206447,-5.31910300255 l1.48310825229,-5.70787489414 1.46649762988,-5.44201374054 l1.33307412267,-5.31456291676 0.000822764777695,-4.21725958586 m61.6559273244,-4.90261296676 l-0.2499358356,-0.973245427012 -1.60147592425,-3.11570316553 l-0.915143117309,-2.26915076375 0.000510644676979,-2.65014767647 l0.000407122388424,-3.32929074764 0.799965336919,-2.80272990465 l1.02645479143,-1.78898558021 1.80115193129,-1.54998466372 l2.13864669204,-0.783110186458 2.08690613508,-0.000792611244833 l1.29247441888,0.572999306023 1.0101403296,1.07275612652 l1.41505673528,3.37395519018 0.00045697313908,3.61302882433 l-0.850557014346,2.77189910412 -1.60299569368,2.33769536018 l-2.06033200026,1.60330280662 -2.36028954387,0.84464840591 l-2.00047671795,-0.00041238963604 m14.4678878784,-0.727621018887 l-1.21217057109,-0.479749143124 -1.25503569841,-2.06456318498 l-0.776283815503,-2.35249176621 0.000341463601217,-4.2325425148 l0.440923385322,-1.39623463154 1.45759403706,-2.08148911595 l3.17541331053,-1.87916249037 2.43172690272,-0.662737637758 l2.28218227625,-0.00152959444677 2.40353003144,1.27158209682 l1.41714215279,2.253934443 0.536127649248,1.76419213414 l0.000395833085349,4.01393771172 -1.02319948375,2.54085719585 l-1.73852324486,2.00481504202 -2.29430690408,1.3871447742 l-2.66951411963,0.752961561084 -2.57734894753,-0.00305337423924 l-0.938251167536,-0.56967690587 m-4.89163458347,-1.46632120013 l0.210061259568,2.89982408285 0.240399204195,2.79074788094 l1.11232385039,0.508820153773 1.56081780791,-3.09830069542 l0.850534439087,-2.11142167449 m-14.8002159595,-14.0419638157 l-0.813121497631,-1.38868972659 -1.11049838364,-3.96340280771 l-0.505487024784,-3.23704987764 0.000288551927952,-2.37556517124 l1.53391569853,0.517037622631 2.6571649313,3.03858995438 l2.16991484165,1.87559768558 1.18328556418,0.274827200919 l5.54041206837,-0.00149044804857 5.69408178329,0.000357615026587 l3.30408960581,0.24512430653 1.945887357,-2.71070301533 l1.79663404822,-2.94593334198 1.37577936053,-0.216344185174 l0.515831895173,1.28580510616 0.424680635333,4.53791797161 l1.40811517835,3.06347995996 1.59811541438,3.12219947577 l1.64884999394,4.01267021894 0.792985782027,3.83861362934 l0.000285899568553,7.31781303883 -0.803893879056,6.8384116888 l-0.787903517485,7.48229324818 0.000427966624557,8.54022800922 l0.88324919343,5.74498534203 1.56025320292,5.11777162552 l1.50770366192,4.06079262495 0.984660312533,2.25875556469 l0.833944156766,1.71725198627 m-36.8954205513,-56.2637424469 l-0.880264267325,4.75460022688 -0.000156003807206,7.00348377228 l-0.401933081448,3.11806887388 4.57078976979e-05,8.77735316753 l0.397430583835,3.61073195934 0.000393991613237,6.71302378178 l-0.326395258307,7.05933451653 -0.685609281063,6.76234662533 l0.000558279789402,6.7300850153 1.50117456913,3.84698092937 l1.97450190783,2.53202825785 1.60549938679,1.16397634149 l2.72168368101,0.922264307737 7.54801988602,-0.00362435501302 l11.3597643375,-1.74923568964 5.38321793079,-0.923054069281 l3.23648869991,-0.960977822542 2.15266346931,-1.11026205122 m51.190585993,-47.3265378666 l-0.325097516179,-1.02766491473 -1.58740475774,-2.81963139772 l-0.496437884867,-1.345551759 0.000412638873968,-2.7965003252 l0.405576601624,-1.29251927137 1.3046002388,-1.81248769164 l1.85239076614,-1.3086719811 2.11656033993,-0.592213869095 l2.13125541806,-0.00167130638147 0.872511565685,1.10240653157 l0.485784336925,1.28879278898 0.000589240153204,3.84875655174 l-0.469766668975,1.6539619863 -1.34652882814,1.96149110794 l-1.95556789637,1.48898854852 -2.12111890316,0.656485408545 l-1.4025361836,-0.000973185524344 m13.8680291176,-0.468883477151 l-1.62300050259,-1.43194362521 -0.866491869092,-2.34035298228 l0.000289935487672,-3.43357771635 0.552035272121,-1.30854547024 l2.46056824923,-2.26933687925 1.98312863708,-0.878949388862 l2.29696109891,-0.000886866546352 1.51191100478,0.975754186511 l0.703489854932,1.25734984875 0.555200017989,3.08780550957 l0.000414031892433,3.26215416193 -0.928832739592,1.94857120514 l-1.74360468984,1.47904142737 -2.20217853785,0.698816031218 l-2.28650078177,-0.00238236098085 -0.983224660158,-0.602921694517 m-6.75321996212,1.98995947838 l1.08711756766,2.97036498785 0.981254652143,3.05295169353 l1.11950844526,0.0291469320655 1.67053714395,-3.58214437962 l1.12432926893,-2.2970187664 m-13.1760501862,-17.3487007618 l-1.2356133759,-0.540585443377 -2.13666036725,-0.62606215477 l-2.72865325212,-0.451680906117 -1.44471153617,1.03411287069 l-1.41858071089,2.26227551699 -1.08871996403,3.08398991823 l-0.635373145342,3.56551110744 0.000254862588918,6.51017785072 l0.816975086927,3.79687815905 1.58213689923,3.63917857409 l2.12310776114,3.17707180977 2.57590562105,2.63250410557 l4.56052452326,2.89865493774 2.45143547654,0.912452340126 l3.26452046633,1.21453985572 4.76753532887,-0.00131403663545 l5.07487356663,-0.000410356478824 4.848485291,-1.50639355183 l1.60657346249,-0.867859721184 2.54594802856,-2.14969351888 l2.26510897279,-3.19025933743 1.56942054629,-3.93314242363 l0.757086724043,-4.51413482428 0.000518959277542,-4.79767590761 l-0.954259112477,-4.39687162638 -1.75258055329,-3.92325818539 l-2.55255997181,-3.41270387173 -2.24680349231,-1.98204368353 l-2.29796424508,-1.28891855478 -3.69983375072,-1.23686976731 l-4.21806931496,-0.704758539796 -6.52426183224,0.000328086462105 l-3.66169333458,1.31763696671 -2.78497308493,1.75000548363 l-1.98926284909,1.98830679059 m-2.2672533989,26.2903118134 l-2.26442545652,5.03026545048 -1.33611038327,4.93435740471 l-0.899339467287,7.86151766777 0.000364848638128,10.8255624771 l0.869973450899,4.99467939138 1.44404008985,4.12132918835 l0.693556368351,1.19369789958 m34.1803383827,-40.5099821091 l1.61985903978,3.51911127567 2.55222588778,5.77716350555 l1.45995393395,5.33966124058 0.854368805885,5.63814997673 l0.000405330647482,8.6294054985 -0.912934094667,5.05016028881 l-1.26058027148,3.6746352911 m-31.4236545563,-31.8677663803 l-0.424903593957,3.28575819731 0.000427355807915,7.48115301132 l-0.759705677629,6.12702131271 0.00069423840614,7.09851145744 l0.704740807414,3.89371156693 1.28362551332,3.27984064817 l1.65737554431,2.38226652145 m79.0006326543,-50.2543777708 l-0.416780263186,-1.06199555099 -1.50154173374,-2.41885885596 l-0.512058436871,-1.24042697251 0.000341886043316,-2.52457529306 l0.480119287968,-1.27412557602 1.47541254759,-1.81541264057 l1.99864700437,-1.15871630609 2.09001272917,-0.000955810974119 l2.06985190511,-0.00165669465787 2.38604336977,1.06304742396 l0.659510344267,1.20526403189 0.000530998622708,2.85619974136 l-0.979917496443,2.28274852037 -1.80628687143,1.95621579885 l-2.18871504068,1.12541407347 -1.98705598712,-0.00102360892924 l-0.793442577124,-0.761455819011 m14.0551292896,0.018154050922 l-1.28400698304,-0.264872927219 -1.28174304962,-1.42978772521 l-0.792377069592,-2.35267400742 0.000455076879007,-3.33696901798 l0.718799754977,-1.26918971539 1.8252658844,-1.31339997053 l1.82425558567,-0.645488128066 2.22258657217,-0.000996469170786 l1.69705957174,1.81822285056 0.583887323737,2.38972380757 l0.000372989234165,2.93521761894 -0.942190289497,1.83343142271 l-1.74762994051,1.439781636 -2.09433615208,0.69405041635 l-1.68228954077,-0.00242134541622 m-6.80452525616,1.8393778801 l0.767102688551,2.79139399529 0.809938758612,3.26507896185 l1.13789461553,0.10934847407 1.70728966594,-3.88145178556 l1.06857158244,-2.15136185288 0.307194553316,-0.866142958403 m-11.6463530064,-15.1853978634 l-1.78724274039,-0.366884544492 -2.92251110077,0.0229575810954 l-1.73177063465,0.586917623878 -2.17962294817,1.6172888875 l-1.83954432607,2.36908912659 -1.32284715772,2.90486127138 l-0.798041969538,3.37996393442 0.000269842712441,6.28434002399 l0.495336428285,2.46001943946 2.21409633756,4.8139166832 l2.40289226174,3.35381478071 2.79570937157,2.61169463396 l3.27091425657,1.9451290369 3.9320191741,1.38729885221 l4.16347324848,0.622758939862 4.93512690067,-0.00103522659629 l3.22333157063,-1.19567900896 3.27739089727,-2.20793962479 l2.80399739742,-3.1093621254 2.32149377465,-3.93592119217 l1.43150240183,-4.48892205954 0.571566745639,-4.67611432076 l0.000471211242257,-4.75792199373 -0.318669490516,-1.7632548511 l-1.28150016069,-3.00914555788 -2.34218865633,-3.1579887867 l-2.21702203155,-1.91340237856 -2.34397724271,-1.3549092412 l-3.5394269228,-1.16656459868 -4.47671055794,-1.29196359921e-05 l-3.45596283674,0.576142668724 -3.19617658854,0.907781124115 l-2.60936528444,1.38878077269 m-6.77404463291,27.6452159882 l-1.11590951681,1.89046144485 -1.23138897121,3.85950535536 l-1.10842049122,7.54696369171 0.000418874697061,8.56761097908 l0.86516790092,5.05858123302 2.45620682836,6.89957857132 l2.18113973737,3.49367856979 0.907825008035,0.863580256701 m26.6404986382,-41.0072231293 l1.84778258204,3.26468706131 2.56323099136,5.76764166355 l1.3730494678,5.01485049725 0.697667524219,5.2431422472 l0.000388381595258,8.38680624962 -0.938927382231,4.72693651915 l-2.12207764387,5.37095546722 -1.82545736432,2.83081948757 m-25.7137441635,-35.8385896683 l-0.505716241896,3.23456138372 0.000396324830945,5.29859304428 l-0.827699750662,5.87381601334 0.000648614732199,7.00699448586 l0.73874861002,4.30275589228 1.29846870899,3.52555632591 l1.61661684513,2.45787337422 2.13002234697,1.85661748052 m76.1827350649,-36.2983267465 l-0.51702812314,-1.08335204422 -1.4322322607,-1.97946250439 l-1.07454836369,-1.57349377871 -0.74816249311,-2.13636830449 l0.000421872464358,-2.75016516447 1.90875545144,-2.07578092813 l2.66664087772,-1.1080801487 2.74583131075,-0.000870406875038 l2.25593686104,-0.00126838378492 1.21775902808,0.614170990884 l1.16811066866,1.59288719296 0.569130554795,2.31776550412 l0.000491006030643,3.33604902029 -0.478843972087,1.52990758419 l-1.49310335517,1.78290426731 -2.20270186663,1.18647806346 l-2.67295718193,-0.00253633130342 -1.12309157848,-0.791810527444 m14.3565130234,-0.458807162941 l-1.4042943716,-0.451873056591 -1.38546466827,-1.71758472919 l-0.826073139906,-1.97881385684 0.00044392530981,-3.35835129023 l0.522440932691,-1.31678819656 1.58863782883,-1.80319085717 l1.64433538914,-1.03909738362 2.60703384876,-0.000442741365987 l2.0737862587,-0.00184107542736 1.79115355015,1.84860631824 l0.686925202608,2.46646910906 0.000392608308175,3.02072137594 l-0.96096470952,2.09842219949 -1.71011134982,1.57539948821 l-2.19580993056,0.924235135317 -1.96822851896,-0.0026500961394 l-0.877259746194,-0.574898757041 m-6.86478078365,1.53834536672 l0.848864242435,3.08800429106 0.778436660767,3.24190884829 l1.13188095391,-0.0674055144191 1.65711596608,-3.73753637075 l0.984783545136,-2.06133186817 0.543485246599,-1.04398831725 m-13.3924627304,-14.4211530685 l-0.969575494528,-1.13456651568 -1.26641452312,-1.45128637552 l-1.78922042251,-1.95494160056 -1.31811231375,-0.613924264908 l-1.14559277892,1.70829430223 -0.695128440857,4.23559367657 l3.42106750395e-05,5.24870812893 0.804761275649,1.96952223778 l1.74275070429,2.14265882969 2.45432406664,1.8966011703 l3.05670946836,1.43580406904 3.29165965319,0.769183039665 l4.03581261635,-0.00109470754978 2.93546110392,-0.847530215979 l2.68586486578,-1.61356434226 2.22474336624,-2.24576830864 l1.69532880187,-2.7893447876 1.76620900631,-4.99587714672 l0.370677523315,-3.75900149345 0.000371719070245,-3.45907002687 l-0.870975628495,-2.6864361763 -1.19229540229,-1.90877482295 l-1.46578758955,-1.38907685876 -1.71806946397,-0.881410166621 l-3.09140354395,-0.000916100179893 -5.5506670475,1.8323995173 l-1.88886195421,1.10790632665 -2.99023747444,2.86274552345 l-1.47118404508,2.3911011219 -0.894187763333,2.46529966593 m-2.15667426586,16.1919915676 l-2.07507938147,4.17045712471 -0.833368301392,2.73119568825 l-0.887925550342,6.74694240093 0.000336674638675,9.98459815979 l0.874853506684,4.69367384911 1.51388078928,4.04951781034 l1.97280317545,3.45547199249 0.953771024942,1.08552604914 l0.925487056375,0.859417393804 m19.6934378147,-41.147646904 l1.85005813837,3.65509659052 2.30564892292,5.62209665775 l1.27959489822,5.14465689659 0.56879658252,4.96952056885 l0.000334055330313,8.30309867859 -0.459054708481,2.76946187019 l-1.26360550523,3.69456291199 -1.67463004589,3.10261458158 l-1.91233977675,2.2072955966 -2.25123330951,1.62933573127 m-16.694663763,-36.6129541397 l-0.412125475705,1.27202302217 0.000406092294725,6.43807590008 l-0.852780416608,6.2772333622 0.000606488865742,6.90450072289 l1.26594632864,4.25829350948 1.70608833432,3.1294542551 l2.03973948956,2.36505180597 2.36145719886,1.59535452724 l2.61937111616,0.859825387597 3.31046849489,-0.00242982365307 m66.0476814943,-41.6967522914 l-0.630320459604,-1.07970029116 -1.38414129615,-1.44314557314 l-1.20434328914,-1.04303881526 -0.660619735718,-1.03845693171 l0.000452837557532,-1.79027080536 1.67989820242,-1.51453509927 l2.53846079111,-0.873821899295 3.04272919893,-0.00060365859099 l2.25103721023,-0.00242953727138 1.78341820836,0.701807439327 l1.67451918125,2.2011873126 0.329182371497,2.29681640863 l0.000358741308446,2.36451879144 -0.953265950084,1.87757670879 l-1.9005446136,1.39409959316 -2.50974535942,0.621254108846 l-2.94954270124,-0.00204546449822 -1.20456770062,-1.17760777473 l-0.72379052639,-1.46287366748 0.000261932636931,-2.22977295518 m15.9408557415,2.14839652181 l-1.37034803629,-0.634720176458 -1.04825638235,-1.79842457175 l-0.48567019403,-1.95490777493 0.000424394529546,-2.78475940228 l0.694731622934,-1.25697925687 1.11008949578,-0.972920656204 l1.43588542938,-0.630341619253 2.6846164465,-0.00116519848234 l2.0672865212,-0.00181803610758 1.73685416579,0.811390653253 l1.35139808059,1.6724511981 0.685455650091,2.25960746408 l0.000316185360134,2.45379984379 -0.958679690957,1.88456609845 l-1.79835289717,1.43165677786 -2.43143931031,0.870523527265 l-2.65807300806,-0.00192889609025 -1.23034536839,-0.871018767357 l-0.767924264073,-1.19280077517 m-4.61312264204,2.72068142891 l0.698530226946,2.81727701426 0.674485564232,3.25220137835 l1.10265344381,0.298127904534 1.49575680494,-3.44419002533 l0.889492854476,-2.27116331458 0.3993229568,-1.11179664731 m-13.8427197933,-13.3704280853 l-1.2237431854,-0.70929788053 -1.89120516181,-0.863794460893 l-2.58308291435,-1.05456314981 -1.32351219654,-0.098920725286 l-0.504367426038,1.23058617115 0.000229653251154,4.19683218002 l0.744956955314,3.27562451363 1.35505959392,2.97720491886 l0.97626388073,3.63566875458 0.557878799736,4.11951363087 l0.000487413090013,5.93688905239 -0.0946762878448,4.79186505079 l-0.335414819419,5.33804118633 -0.61593234539,5.36439836025 l0.000457089226984,6.29867553711 -0.246236566454,4.0409001708 l-0.0920589081943,3.48611533642 m10.3075218201,-52.7445602417 l2.56941258907,-1.51466846466 2.90668696165,-0.989322513342 l3.43285888433,-0.509666241705 3.99251759052,0.00105849219835 l3.50525438786,0.897151753306 2.09050416946,1.42907142639 l1.62909448147,2.0798908174 0.755064934492,1.67989388108 l0.895909070969,4.20485675335 0.000489128033223,6.61213159561 l-1.00733689964,6.54142260551 -0.813137441874,6.95042312145 l-0.754745975137,7.72281169891 0.000587730974075,7.92731404305 l0.985302403569,5.63568949699 1.13147564232,3.41360628605 l0.855265185237,2.15260714293 m-25.7305669785,-30.9905099869 l0.0706202723086,1.2890407443 -0.0253698951565,3.37718844414 l-0.62276609242,4.56329196692 -1.46163731813,4.64337855577 l-1.20627716184,2.9914984107 -1.36925131083,2.92582720518 l-1.38834267855,2.60112762451 -1.37277469039,2.18363925815 l-1.28426834941,1.67273774743 -1.15242682397,1.32617861032 l-1.02851226926,0.814017578959 m29.059844017,-27.4291801453 l-0.247904285789,4.20502752066 0.000344008949469,8.77690732479 l0.440290607512,3.271920681 2.0962497592,6.47288382053 l2.19896391034,3.81886273623 2.35303014517,2.39341273904 l1.11309848726,0.711055397987 m55.1776451302,-45.3851442425 l-0.751753747463,-1.06452710927 -1.36417075992,-0.918807610869 l-1.32935702801,-0.363004282117 -0.657733008265,0.969035997987 l0.000410609172832,2.08173707128 1.58055558801,1.04527361691 l2.02506706119,-0.00362427410437 0.949966013432,-0.968381687999 l0.310658887029,-1.25607326627 0.000632205410511,-1.21998012066 l-1.11182101071,-0.636424645782 m12.5416755676,0.469818599522 l-1.61938518286,-0.445644184947 -1.16884618998,0.325764343143 l-0.630944669247,1.18300415576 0.00035137818486,1.58500850201 l1.19325481355,0.731989964843 1.83346182108,-0.00114672599011 l0.810665488243,-1.10344588757 0.00055762950069,-1.53713300824 l-1.05414286256,-0.860403701663 m-8.03210377693,6.90684080124 l0.50307739526,2.50208556652 1.08822286129,0.868865028024 l0.861584693193,-1.09511807561 0.690302029252,-2.17076838017 m-5.92491209507,-13.9782476425 l-2.73755133152,-0.233703888953 -1.97024449706,0.474371723831 l-2.57601082325,1.46930292249 -1.27536028624,1.16025999188 l-1.41406148672,2.17563837767 -0.9199937433,2.73187577724 l0.00026509309464,4.52482163906 0.837512612343,3.07286292315 l1.59472361207,2.73481667042 2.34488204122,2.50400543213 l2.72221177816,1.78533479571 3.40269088745,1.22107744217 l3.85625064373,0.54707352072 4.81590092182,-0.00139303214382 l3.29679787159,-0.85810251534 4.05374020338,-2.53908485174 l1.27387970686,-1.32283315063 1.05048976839,-1.64842143655 l0.699850767851,-1.89622357488 0.000470024388051,-3.99602383375 l-1.3692907989,-3.29815804958 -1.65363684297,-2.3967756331 l-1.88457101583,-1.89647093415 -3.03887844086,-2.05237701535 l-3.50284725428,-1.48421570659 -2.82186239958,-0.685305818915 l-4.25023883581,-0.000107645028038 -1.08282409608,0.348688773811 m-5.96948325634,12.2877955437 l-1.04313015938,1.0403444618 -1.9506521523,3.84390741587 l-1.17220938206,3.79230856895 -0.478378795087,2.62153923512 l0.000283642511931,7.08209633827 0.76754681766,4.85586583614 l1.43454253674,4.53019946814 1.8475882709,3.88401448727 l2.17781990767,3.1462725997 1.01579889655,1.01225070655 l1.9778047502,1.24997586012 m19.3976044655,-34.1788864136 l1.41823455691,3.02997916937 2.14048057795,5.36864042282 l1.04249283671,4.8798006773 0.000301164564007,5.9561419487 l-0.487733148038,2.72145450115 -2.17538803816,5.72049319744 l-2.00243756175,3.26363116503 -2.35079422593,2.65599489212 l-2.35545888543,1.66222423315 -2.74458885193,1.11508540809 l-2.92175680399,0.474348440766 -3.53183835745,-0.00145876983879 l-3.13926458359,-0.00267292169156 -1.39905393124,-0.64115524292 l-1.41919881105,-1.46951138973 m2.58654266596,-31.420044899 l2.64671416517e-05,3.39411377907 -0.462911203504,4.9263510108 l-0.695133879781,2.34287768602 -1.11330524087,3.31299781799 l-1.3504627347,3.3070987463 -1.25915423036,2.70623862743 l-1.24585904181,2.40021079779 m19.2379868031,-22.808175087 l-0.199472550303,1.32352113724 0.00032557243685,6.62100255489 l0.433918759227,3.01757931709 1.2987267971,4.08638328314 l1.91109642386,3.72742325068 2.23751112819,2.89947330952 l2.0837777853,1.65551543236 m58.3384857869,-33.6488287262 l-0.876092016697,-1.02708421648 -1.29731014371,-0.539417490363 l-1.3404417038,0.381380990148 -0.51209975034,1.14463582635 l0.000357170065399,2.21391484141 1.97841063142,1.1256570369 l2.66367763281,-0.00309213879518 1.07505045831,-0.882010608912 l0.402438938618,-1.23659215868 0.000607694018981,-1.48783966899 l-1.09604239464,-0.869505405426 -1.38212785125,-0.00120175245684 m13.8076913357,-0.0472603039816 l-1.26978740096,-0.452922210097 -1.84547543526,-0.00327180925524 l-1.13165095448,0.599878877401 -0.474757701159,1.18743374944 l0.000385109815397,1.69430673122 1.18735723197,0.902944803238 l1.24237895012,0.246581565589 2.00685173273,-0.0015676971816 l0.894379764795,-1.0955735296 0.157792232931,-1.20785906911 l-0.390456020832,-1.1469065398 -1.18102543056,-0.694138854742 m-9.0473729372,7.45889246464 l0.572684891522,2.28107899427 0.803679376841,2.84115642309 l1.00440368056,0.102620171383 1.52071461082,-3.38606923819 l0.864886716008,-1.73639073968 m-6.91937744617,-13.8740348816 l-1.26494973898,-0.172844994813 -2.34373897314,0.00434943591245 l-1.86968833208,0.617401897907 -2.22391828895,1.55403122306 l-1.92689687014,2.24592328072 -1.3674351573,2.69720345736 l-0.810299366713,3.14028173685 0.000241421948886,5.68590581417 l0.462806001306,2.11201697588 1.39054566622,2.99430578947 l1.99030339718,2.62859255075 2.6132646203,2.1607452631 l3.17680746317,1.55173793435 3.84334206581,0.970321595669 l4.53278571367,-0.00126971644931 1.73444032669,-0.33052586019 l2.86441087723,-1.25082656741 2.40879699588,-1.59085467458 l2.63124912977,-2.74596631527 1.95029124618,-3.48470777273 l0.9773029387,-3.10508340597 0.360063351691,-3.93610447645 l0.000492912186019,-3.96067112684 -0.590093582869,-2.67132371664 l-0.997436493635,-2.08807423711 -1.36532813311,-1.67200744152 l-1.71528801322,-1.31090730429 -3.01587194204,-1.33746027946 l-2.69269764423,-0.652269348502 -4.73012506962,2.72586817118e-05 l-3.33683818579,0.853268355131 -2.39291504025,1.33195385337 m-6.55800163746,21.5277862549 l-1.24352440238,1.02286271751 -1.27860844135,2.85722732544 l-0.672307536006,2.34586119652 -0.801674500108,5.95492422581 l0.000411290166085,8.09978485107 0.436434485018,2.81491339207 l1.22994259,3.59744131565 1.57458588481,2.7224946022 l0.879195034504,0.945283547044 m25.2247023582,-30.7211470604 l1.47153452039,2.62647151947 1.17972947657,2.64084964991 l1.10564693809,4.20002222061 0.56057151407,4.74607467651 l0.000423226229032,7.54796147346 -0.440599247813,2.69727051258 l-1.12323626876,3.22731524706 -1.46953687072,2.54439234734 l-1.12294510007,1.26452416182 m-22.7179026604,-27.745552063 l-0.828561559319,2.26100638509 0.000305618887069,6.39577627182 l0.377051904798,3.02697628736 1.49216085672,5.80932855606 l1.3592684269,3.38474273682 1.64657026529,2.73404806852 l1.85824811459,1.93418651819 2.24474519491,1.35217279196 l2.55223661661,0.704762861133 3.34960848093,-0.000796566600911 l1.34126365185,-0.394208431244 1.74678459764,-1.33935630322 l1.38376072049,-1.81884229183 1.47344216704,-3.36295127869 l0.808649659157,-3.38815391064 0.000505927055201,-6.56934559345 l-0.322452373803,-2.13461071253 -1.05832204223,-3.14537078142 l-0.714406818151,-1.22510574758 -1.44798055291,-1.44074425101 m-15.925116539,3.05309087038 l0.026816574391,3.66672158241 0.000587906724832,7.41976559162 l-0.746965333819,4.5230153203 -0.806965827942,2.93621897697 l-0.896343812346,1.90981268883 m82.8348973958,-40.4269916846 l-0.999728292227,-0.974134355783 -1.27438277006,-0.163945220411 l-1.42698764801,1.0501217097 -0.369896329939,1.2484011054 l0.000311708317895,2.48387634754 2.14833050966,1.31545767188 l3.0698466301,-0.00279536121525 1.73688262701,-1.48626789451 l0.495054088533,-1.24048091471 0.000576097227167,-1.83290377259 l-1.03599637747,-0.972305014729 -1.21719606221,-0.371024534106 l-1.86505272985,-0.000119413325592 m14.1238558292,-0.0576347345486 l-1.7286221683,-0.36389414221 -1.21026992798,0.375123769045 l-0.786892101169,1.14912107587 -0.39383802563,1.65964514017 l0.000397723524657,1.91450074315 1.20808698237,0.947450101376 l1.27094477415,0.236010029912 2.07176074386,-0.00152339867782 l1.13885566592,-1.04630172253 0.403980091214,-1.22902952135 l0.00042817024223,-2.09738865495 -1.05666697025,-1.02290116251 l-1.24261200428,-0.448517128825 m-16.4372742176,-2.80802190304 l-0.595738179982,-1.12592421472 0.000258116124314,-2.44146645069 l0.795838311315,-4.32859450579 0.960134491324,-0.617695897818 l1.09767489135,1.07593804598 1.94048374891,3.67244154215 l0.997191146016,0.947300866246 1.07337631285,0.363829024136 l3.40076208115,-0.00127202874864 3.69897305965,-0.00086203290266 l1.63971945643,-2.13487520814 1.38979494572,-2.8683796525 l1.22766137123,-0.707580447197 0.690216720104,1.2513230741 l0.889390036464,4.01379078627 1.16888657212,2.18552440405 l1.07371598482,1.95721298456 0.665598064661,2.38928005099 l0.000330782604578,3.47689419985 -0.779838487506,2.9570415616 l-1.55338555574,2.8175291419 -1.90223991871,2.11039096117 l-2.51513749361,1.69424295425 -2.98896551132,1.03450156748 l-3.78990828991,-0.00183241310879 -3.7328350544,-0.00271177879767 l-1.71749636531,-0.429943911731 -2.08786830306,-1.19407214224 l-1.98226809502,-2.22397044301 -1.12415261567,-2.07972496748 l-1.16733931005,-4.44190382957 0.000383061960747,-3.63925814629 l1.18776932359,-2.19909548759 0.856132805347,-0.869803652167 l1.48697406054,-0.8121535182 m1.74165770411,12.2782289982 l-1.16126105189,0.527214743197 -1.37112975121,1.99086859822 l-1.38560578227,3.15928220749 -0.651643797755,2.30533927679 l-0.729406774044,5.45907437801 0.000346618617186,6.79511725903 l1.44563481212,4.47979211807 1.78973510861,2.82288223505 l2.26401314139,2.23428621888 1.17920883,0.726220682263 m17.5492656231,-30.1996254921 l1.51164785028,2.34453842044 2.30743199587,4.53960716724 l1.17536053061,4.40133363008 0.374237298965,4.18218284845 l0.000332721538143,5.88147342205 -0.457470715046,2.42084816098 l-1.19290329516,2.8031334281 -1.65060773492,2.36213862896 l-2.07548141479,1.80722430348 -2.35801994801,1.1459364742 l-2.9318985343,0.718569532037 -3.82491499186,-0.00167521226103 l-3.87635111809,-0.00146649850649 -1.81781336665,-0.545956715941 l-2.6452472806,-1.67555943131 m2.53662109375,-29.7807073593 l-0.602197311819,1.36803984642 0.000226694082812,4.14378941059 l-0.628662705421,4.27623867989 0.000455667286587,6.54338359833 l0.538899637759,3.64822655916 0.902795493603,3.07222336531 l1.17154687643,2.38102242351 1.50201693177,1.76833584905 m10.3620994091,-26.689157486 l0.383753217757,3.55042040348 0.000266716233455,6.26250326633 l-1.01631008089,6.61549568176 -1.81167647243,6.2830477953 l-1.03852793574,3.55208754539 \" fill=\"none\" stroke=\"black\" stroke-width=\"1\"/></svg>"
      ],
      "text/plain": [
       "<IPython.core.display.SVG object>"
      ]
     },
     "metadata": {
      "tags": []
     },
     "output_type": "display_data"
    }
   ],
   "source": [
    "stroke_grid = make_grid_svg(reconstructions)\n",
    "draw_strokes(stroke_grid)"
   ]
  },
  {
   "cell_type": "markdown",
   "metadata": {
    "colab_type": "text",
    "id": "OiXNC-YsFQv0"
   },
   "source": [
    "Let's load the model trained on both cats and buses!  catbus!"
   ]
  },
  {
   "cell_type": "code",
   "execution_count": 0,
   "metadata": {
    "colab": {},
    "colab_type": "code",
    "id": "SL7WpDDQFQv0"
   },
   "outputs": [],
   "source": [
    "model_dir = '/tmp/sketch_rnn/models/catbus/lstm'"
   ]
  },
  {
   "cell_type": "code",
   "execution_count": 65,
   "metadata": {
    "colab": {
     "base_uri": "https://localhost:8080/",
     "height": 255
    },
    "colab_type": "code",
    "id": "Cvk5WOqHFQv2",
    "outputId": "8081d53d-52d6-4d18-f973-a9dd44c897f2"
   },
   "outputs": [
    {
     "name": "stdout",
     "output_type": "stream",
     "text": [
      "INFO:tensorflow:Model using gpu.\n",
      "INFO:tensorflow:Input dropout mode = False.\n",
      "INFO:tensorflow:Output dropout mode = False.\n",
      "INFO:tensorflow:Recurrent dropout mode = False.\n",
      "INFO:tensorflow:Model using gpu.\n",
      "INFO:tensorflow:Input dropout mode = 0.\n",
      "INFO:tensorflow:Output dropout mode = 0.\n",
      "INFO:tensorflow:Recurrent dropout mode = 0.\n",
      "INFO:tensorflow:Model using gpu.\n",
      "INFO:tensorflow:Input dropout mode = 0.\n",
      "INFO:tensorflow:Output dropout mode = 0.\n",
      "INFO:tensorflow:Recurrent dropout mode = 0.\n",
      "INFO:tensorflow:Loading model /tmp/sketch_rnn/models/catbus/lstm/vector.\n",
      "INFO:tensorflow:Restoring parameters from /tmp/sketch_rnn/models/catbus/lstm/vector\n"
     ]
    }
   ],
   "source": [
    "[hps_model, eval_hps_model, sample_hps_model] = load_model_compatible(model_dir)\n",
    "# construct the sketch-rnn model here:\n",
    "reset_graph()\n",
    "model = Model(hps_model)\n",
    "eval_model = Model(eval_hps_model, reuse=True)\n",
    "sample_model = Model(sample_hps_model, reuse=True)\n",
    "sess = tf.InteractiveSession()\n",
    "sess.run(tf.global_variables_initializer())\n",
    "# loads the weights from checkpoint into our model\n",
    "load_checkpoint(sess, model_dir)"
   ]
  },
  {
   "cell_type": "code",
   "execution_count": 73,
   "metadata": {
    "colab": {
     "base_uri": "https://localhost:8080/",
     "height": 106
    },
    "colab_type": "code",
    "id": "icvlBPVkFQv5",
    "outputId": "f7b415fe-4d65-4b00-c0eb-fb592597dba2"
   },
   "outputs": [
    {
     "data": {
      "image/svg+xml": [
       "<svg baseProfile=\"full\" height=\"85.0024624268\" version=\"1.1\" width=\"97.0106323063\" xmlns=\"http://www.w3.org/2000/svg\" xmlns:ev=\"http://www.w3.org/2001/xml-events\" xmlns:xlink=\"http://www.w3.org/1999/xlink\"><defs/><rect fill=\"white\" height=\"85.0024624268\" width=\"97.0106323063\" x=\"0\" y=\"0\"/><path d=\"M46.3545013685,33.7004358135 m-1.67252272367,0.394050441682 l-2.03154876828,1.45254462957 -1.77578791976,1.80640622973 l-1.6109457612,2.1960131824 -1.18691310287,2.34753742814 l-0.678012892604,2.30114400387 -0.20122455433,2.21701934934 l0.332671366632,2.12932109833 1.03898189962,1.93650469184 l1.74471467733,1.76480427384 2.42952331901,1.4399163425 l3.00780057907,0.961375236511 3.41435223818,0.406128205359 l3.47424894571,-0.119643304497 3.25872182846,-0.736866593361 l2.82667756081,-1.2964771688 2.19879046082,-1.72045439482 l1.47952780128,-2.00524181128 0.781586319208,-2.26519107819 l0.0863485690206,-2.36544474959 -0.624918863177,-2.38882064819 l-1.35048046708,-2.27941468358 -2.01366201043,-2.13800251484 l-2.45773822069,-1.7978258431 -2.69231259823,-1.3554097712 l-2.68344372511,-0.840844660997 -2.60668128729,-0.349534451962 l-2.29395762086,0.0881606899202 -1.97751566768,0.484185256064 m-4.22170132399,5.59232115746 l-0.858224183321,-0.992628484964 -1.42562314868,-2.25309178233 l-1.4492110908,-2.57754087448 -2.78117597103,-5.97079396248 l-0.8167950809,-2.6043471694 1.32482737303,-0.160294082016 l1.46054670215,0.706794261932 5.88625133038,3.87950181961 l3.83870124817,3.03945600986 1.23776055872,0.720141157508 m9.16391193867,1.79712742567 l1.0277723521,-0.794012546539 4.92988169193,-3.58641952276 l7.03148722649,-4.49979126453 1.72269210219,-0.779656022787 l0.18622552976,1.22162371874 -1.75484806299,3.27743798494 l-3.89630943537,6.59069061279 -1.24373376369,2.57274150848 l-0.521678514779,1.66077747941 m-15.3570437431,4.34784531593 l-0.703595504165,-0.366752743721 -2.21099600196,-0.000145574467751 l-5.26128053665,0.468756966293 -6.46269977093,1.18766956031 l-6.91953063011,2.10482001305 -1.49639204144,0.736465454102 m21.9713330269,-1.93512454629 l-2.08371579647,0.242639295757 -2.40464165807,0.793681591749 l-4.48679834604,2.26089000702 -3.41465473175,2.18791306019 l-2.46110990644,1.95080041885 m16.475225687,-5.77536463737 l-1.67380392551,0.825476571918 -5.39076983929,4.59509968758 l-2.86009788513,3.01156193018 -1.92672237754,2.55981743336 m18.4251654148,-15.2193069458 l1.54628425837,-0.425299890339 5.11826336384,-1.03468291461 l4.404476583,-0.45712724328 5.77219843864,0.0480564497411 m-16.6457545757,5.08838534355 l4.32074040174,0.242472905666 5.61843752861,1.09646350145 l3.88478636742,1.24357588589 2.69302010536,1.29176437855 m-16.8987333775,-1.01418435574 l3.28390866518,1.62312328815 4.95268970728,2.7775490284 l4.96877580881,3.17819237709 \" fill=\"none\" stroke=\"black\" stroke-width=\"1\"/></svg>"
      ],
      "text/plain": [
       "<IPython.core.display.SVG object>"
      ]
     },
     "metadata": {
      "tags": []
     },
     "output_type": "display_data"
    }
   ],
   "source": [
    "z_1 = np.random.randn(eval_model.hps.z_size)\n",
    "_ = decode(z_1)"
   ]
  },
  {
   "cell_type": "code",
   "execution_count": 77,
   "metadata": {
    "colab": {
     "base_uri": "https://localhost:8080/",
     "height": 88
    },
    "colab_type": "code",
    "id": "uaNxd0LuFQv-",
    "outputId": "4de5ee9a-cf14-49f4-e5f5-399a0d0b8215"
   },
   "outputs": [
    {
     "data": {
      "image/svg+xml": [
       "<svg baseProfile=\"full\" height=\"67.3315515471\" version=\"1.1\" width=\"97.5152636358\" xmlns=\"http://www.w3.org/2000/svg\" xmlns:ev=\"http://www.w3.org/2001/xml-events\" xmlns:xlink=\"http://www.w3.org/1999/xlink\"><defs/><rect fill=\"white\" height=\"67.3315515471\" width=\"97.5152636358\" x=\"0\" y=\"0\"/><path d=\"M29.9867404057,33.2670614123 m0.805409103632,-0.833975374699 l0.307652484626,-2.26678669453 0.151711469516,-3.54340940714 l0.245695672929,-1.62288993597 1.97277218103,0.558484233916 l9.41576838493,0.598074384034 1.79785534739,-0.0017053897318 l8.29492747784,0.0356167810969 0.235580727458,0.256019569933 l-0.0790408626199,4.21960532665 -0.012879089918,0.991931930184 l0.238454733044,0.568543076515 1.72342002392,0.0859044771641 l3.79813492298,0.127453990281 3.35740298033,0.193893890828 l2.98197507858,0.242248829454 2.23931834102,0.237911213189 l0.467457100749,1.53499528766 -6.0118318288e-05,1.97919502854 l-0.358457006514,0.899271965027 -1.3161124289,0.617377273738 l-1.56984224916,0.285860393196 -10.0039458275,-2.17749629883e-05 l-5.3582406044,-0.0280871801078 -17.0182836056,-0.501958318055 l-2.51457840204,-0.427288264036 -3.71798098087,-0.000259167863987 l-0.701615363359,-0.541000440717 -0.369239896536,-0.776930525899 l0.101714814082,-2.19061970711 0.609980300069,-2.19438523054 l0.583609454334,-0.528184100986 1.46566271782,-0.540503934026 l4.08039957285,-0.000195461961994 m28.6143398285,3.29255849123 l0.701352730393,-0.000361385791621 3.46933543682,0.0793636124581 l3.49189370871,-0.0329374009743 0.17093334347,0.102780237794 l-2.13421202488e-06,0.437825731933 -0.109605332837,1.93959712982 l-0.176565013826,1.56886965036 -0.811747461557,0.48882830888 l-9.52714025974,-0.269736666232 -2.52711653709,-0.335641019046 l-1.11822590232,-0.269015040249 -0.65738119185,-0.333181209862 l-0.345065407455,-0.51040943712 2.87700959234e-05,-1.82359144092 l0.546319633722,-2.12298080325 0.640969648957,-1.13863490522 m-21.3961911201,0.175616070628 l0.123352808878,1.75562694669 0.0747249089181,1.63561850786 l9.42731380463,0.0902032107115 1.62131980062,0.176886226982 l9.18411612511,0.247723404318 8.82574737072,-0.0572470016778 l2.63554483652,-0.0353826978244 0.296976547688,-0.193656068295 l0.000153735891217,-1.33447080851 -0.782406032085,-1.43808186054 l-0.364653207362,-0.214961729944 -15.9434425831,-0.106446798891 l-4.01207536459,-0.365686267614 -8.76956820488,-0.289525035769 l-1.16007901728,-0.147831970826 m2.86592900753,0.15889108181 l0.217890720814,2.00570434332 0.197594668716,0.598792210221 m4.64557051659,-2.32862919569 l0.539546869695,2.49007418752 0.32267279923,-0.0375697994605 m5.02432882786,-2.40153804421 l0.819848701358,2.54082530737 0.324251390994,0.343451648951 m4.47809964418,-2.83502340317 l0.971145778894,2.4656496942 0.412364751101,0.0167141086422 m4.11571443081,-2.65937894583 l0.979021638632,2.4001275003 0.346556939185,0.233826283365 l0.617895312607,-0.000109118318505 m3.05825412273,-2.66095519066 l0.814893916249,2.26838067174 0.360139980912,0.908551961184 l0.277478862554,0.294007174671 m-25.8793306351,2.12347775698 l-0.513627231121,-0.000485890341224 -0.521563515067,0.404155403376 l-0.36268081516,0.635671690106 3.32933063873e-05,0.870118141174 l0.307805500925,0.411691330373 0.911298170686,0.451387614012 l1.59308031201,-0.000136071012093 0.5957833305,-0.689334720373 l-2.61452532868e-05,-1.03384450078 -0.524161532521,-0.614503696561 l-0.852187871933,-0.328905619681 -1.14544011652,-0.000197982080863 l-0.176711063832,0.567854233086 m24.4003796577,0.548551231623 l-1.17612704635,0.419630333781 -0.6187973544,0.660637766123 l-0.190389137715,0.672465264797 0.306343305856,0.88217549026 l0.701067596674,0.531736761332 1.27594053745,0.344648398459 l1.61455705762,-6.17346495346e-05 0.655116811395,-0.625963658094 l4.13193492932e-05,-1.13174140453 -0.550770349801,-0.795240625739 l-1.00279971957,-0.554721839726 -1.46591112018,-0.33558037132 l-1.39785453677,-0.000171943738678 m-27.5255537033,-4.18329238892 l0.861325189471,-0.000235227307712 3.75310570002,-0.000122374522107 l8.99283826351,0.360180735588 5.18573880196,0.210896059871 l5.27216970921,0.231435690075 5.06657361984,0.14730297029 l1.9112432003,0.0967795029283 3.54516118765,0.234489161521 l1.4175029099,0.00369216315448 2.69836604595,0.186217669398 \" fill=\"none\" stroke=\"black\" stroke-width=\"1\"/></svg>"
      ],
      "text/plain": [
       "<IPython.core.display.SVG object>"
      ]
     },
     "metadata": {
      "tags": []
     },
     "output_type": "display_data"
    }
   ],
   "source": [
    "z_0 = np.random.randn(eval_model.hps.z_size)\n",
    "_ = decode(z_0)"
   ]
  },
  {
   "cell_type": "markdown",
   "metadata": {
    "colab_type": "text",
    "id": "flZ_OgzCFQwJ"
   },
   "source": [
    "Why stop here? Let's load the model trained on both elephants and pigs!!!"
   ]
  },
  {
   "cell_type": "code",
   "execution_count": 0,
   "metadata": {
    "colab": {},
    "colab_type": "code",
    "id": "S8WwK8FPFQwK"
   },
   "outputs": [],
   "source": [
    "model_dir = '/tmp/sketch_rnn/models/elephantpig/lstm'"
   ]
  },
  {
   "cell_type": "code",
   "execution_count": 81,
   "metadata": {
    "colab": {
     "base_uri": "https://localhost:8080/",
     "height": 255
    },
    "colab_type": "code",
    "id": "meOH4AFXFQwM",
    "outputId": "764938a7-bbdc-4732-e688-a8a278ab3089"
   },
   "outputs": [
    {
     "name": "stdout",
     "output_type": "stream",
     "text": [
      "INFO:tensorflow:Model using gpu.\n",
      "INFO:tensorflow:Input dropout mode = False.\n",
      "INFO:tensorflow:Output dropout mode = False.\n",
      "INFO:tensorflow:Recurrent dropout mode = False.\n",
      "INFO:tensorflow:Model using gpu.\n",
      "INFO:tensorflow:Input dropout mode = 0.\n",
      "INFO:tensorflow:Output dropout mode = 0.\n",
      "INFO:tensorflow:Recurrent dropout mode = 0.\n",
      "INFO:tensorflow:Model using gpu.\n",
      "INFO:tensorflow:Input dropout mode = 0.\n",
      "INFO:tensorflow:Output dropout mode = 0.\n",
      "INFO:tensorflow:Recurrent dropout mode = 0.\n",
      "INFO:tensorflow:Loading model /tmp/sketch_rnn/models/elephantpig/lstm/vector.\n",
      "INFO:tensorflow:Restoring parameters from /tmp/sketch_rnn/models/elephantpig/lstm/vector\n"
     ]
    }
   ],
   "source": [
    "[hps_model, eval_hps_model, sample_hps_model] = load_model_compatible(model_dir)\n",
    "# construct the sketch-rnn model here:\n",
    "reset_graph()\n",
    "model = Model(hps_model)\n",
    "eval_model = Model(eval_hps_model, reuse=True)\n",
    "sample_model = Model(sample_hps_model, reuse=True)\n",
    "sess = tf.InteractiveSession()\n",
    "sess.run(tf.global_variables_initializer())\n",
    "# loads the weights from checkpoint into our model\n",
    "load_checkpoint(sess, model_dir)"
   ]
  },
  {
   "cell_type": "code",
   "execution_count": 82,
   "metadata": {
    "colab": {
     "base_uri": "https://localhost:8080/",
     "height": 121
    },
    "colab_type": "code",
    "id": "foZiiYPdFQwO",
    "outputId": "a09fc4fb-110f-4280-8515-c9b673cb6b90"
   },
   "outputs": [
    {
     "data": {
      "image/svg+xml": [
       "<svg baseProfile=\"full\" height=\"100.1374763\" version=\"1.1\" width=\"142.341965201\" xmlns=\"http://www.w3.org/2000/svg\" xmlns:ev=\"http://www.w3.org/2001/xml-events\" xmlns:xlink=\"http://www.w3.org/1999/xlink\"><defs/><rect fill=\"white\" height=\"100.1374763\" width=\"142.341965201\" x=\"0\" y=\"0\"/><path d=\"M75.6208756314,29.3256763004 m-0.582655221224,-1.41240119934 l-1.66317984462,-1.22074924409 -2.75809496641,-1.09683960676 l-3.07550758123,-0.595324225724 -3.89009475708,-0.0003620244388 l-2.75750011206,0.816095769405 -2.29113280773,1.42393887043 l-1.95413276553,1.73745810986 -2.5669786334,3.43614578247 l-1.2735286355,2.90598779917 -0.989861860871,4.62075203657 l-1.10287764699e-06,3.90399307013 0.0547751411796,2.40621611476 l-5.02344391862e-05,4.53562498093 -0.561834573746,2.95333892107 l-1.06312431395,2.36744016409 -1.39197811484,1.87399983406 l-1.81149438024,1.4499156177 -3.41289192438,1.46371915936 l-4.07461106777,0.591216534376 -2.99031198025,-0.000154946810653 l-2.05114141107,-0.504599288106 -3.31417560577,-2.18389704823 l-1.98922514915,-2.78586387634 -1.16057910025,-3.39478313923 l-0.749077796936,-1.05758979917 -1.1735855788,0.551885999739 l-1.12867623568,2.37056776881 -0.000225016756303,2.13919103146 l1.86253547668,3.32723408937 2.09212735295,2.05651387572 l2.78266966343,1.62848427892 2.35207825899,0.817296206951 l3.75963628292,0.627428814769 4.50475424528,-0.000153672626766 l2.55202025175,-0.602679848671 3.2840013504,-1.56706660986 l2.95549511909,-2.35042721033 2.25631594658,-2.8442376852 l1.56401470304,-3.43744754791 1.15526020527,-1.92337587476 l1.24448925257,-1.33059889078 1.20743431151,-0.737381130457 l2.127353549,-5.7606757764e-05 0.882499217987,0.618953853846 l0.892083570361,1.13026738167 0.919248387218,2.08400338888 l1.45457953215,1.42186954618 2.3826391995,0.643569454551 l3.19635272026,-7.14248699296e-05 1.80601090193,-0.769607052207 l2.01613679528,-1.80690050125 1.76834836602,-2.94737517834 l1.10689990222,-3.9570748806 -0.000208850142371,-3.89997035265 l-0.712704136968,-2.58619070053 -1.0928696394,-1.96944758296 l-1.35899797082,-1.44939050078 -2.53083497286,-1.57845303416 l-1.3102221489,-0.938470289111 m-8.47513616085,2.06321552396 l2.4355866015,-0.519107766449 m0.0358278979547,4.56360518932 l1.47531658411,0.13141923584 1.70170679688,0.58035377413 l1.42589494586,1.11343696713 1.35092258453,1.92930743098 l0.647478997707,3.07652205229 -0.000102521598819,4.67519849539 l-0.69078065455,2.5873413682 -1.09512798488,1.92682042718 l-1.49378657341,1.34781494737 -1.76812708378,0.683051273227 l-1.73257008195,-6.02221098234e-05 -1.2951849401,-1.2457408011 l-1.54103249311,-3.08542668819 -0.340462885797,-2.90916055441 l-9.72003363131e-05,-3.77835482359 m5.41582465172,-4.64801728725 l0.886888504028,1.27891331911 1.70460686088,2.93731004 l1.42219677567,3.44551324844 1.11802093685,3.74898761511 l1.05097316206,4.37461674213 0.681472197175,4.86078739166 l0.532193183899,4.21487510204 0.503655560315,3.45398724079 l0.972457081079,3.35574686527 4.5726788044,0.662470981479 l5.87475061417,0.0322064291686 0.792977139354,-0.890891775489 l-0.000170101102412,-6.2473064661 0.294471308589,-4.34204846621 l0.982625558972,-1.62652179599 6.85891509056,-0.797987431288 l7.57929980755,-0.391377769411 0.904950499535,0.837505757809 l0.270838290453,7.563611269 0.89445322752,4.74498152733 l0.910309106112,0.974612608552 7.57054567337,-0.12530952692 l1.04310050607,-0.603834278882 1.12687677145,-1.70403778553 l1.33766591549,-5.06121516228 0.211263485253,-5.79871416092 l0.121820848435,-4.75001722574 0.359147302806,-4.64286923409 l0.58768376708,-4.5747640729 -7.25926793166e-05,-4.30104911327 l-0.775724723935,-3.36740553379 -1.36360242963,-2.7925285697 l-1.96151554585,-2.37419635057 -4.03261274099,-2.97431200743 l-3.31938505173,-1.49296477437 -5.44422984123,-1.3656245172 l-6.53502523899,-0.000157591148309 -4.3574282527,0.902363657951 l-4.84326660633,1.89100310206 -2.40882813931,1.37651488185 \" fill=\"none\" stroke=\"black\" stroke-width=\"1\"/></svg>"
      ],
      "text/plain": [
       "<IPython.core.display.SVG object>"
      ]
     },
     "metadata": {
      "tags": []
     },
     "output_type": "display_data"
    }
   ],
   "source": [
    "z_0 = np.random.randn(eval_model.hps.z_size)\n",
    "_ = decode(z_0)"
   ]
  },
  {
   "cell_type": "code",
   "execution_count": 84,
   "metadata": {
    "colab": {
     "base_uri": "https://localhost:8080/",
     "height": 163
    },
    "colab_type": "code",
    "id": "6Gaz3QG1FQwS",
    "outputId": "0cfc279c-1c59-419f-86d4-ed74d5e38a26"
   },
   "outputs": [
    {
     "data": {
      "image/svg+xml": [
       "<svg baseProfile=\"full\" height=\"142.446283479\" version=\"1.1\" width=\"121.156762694\" xmlns=\"http://www.w3.org/2000/svg\" xmlns:ev=\"http://www.w3.org/2001/xml-events\" xmlns:xlink=\"http://www.w3.org/1999/xlink\"><defs/><rect fill=\"white\" height=\"142.446283479\" width=\"121.156762694\" x=\"0\" y=\"0\"/><path d=\"M47.3451428087,38.8328450652 m-2.69179135561,-0.522680617869 l-2.46359333396,0.129737621173 -3.64385932684,1.0975138098 l-2.15494379401,1.07036538422 -2.08060890436,1.53608307242 l-1.96840047836,2.08357974887 -1.74982562661,2.6373142004 l-1.34052321315,3.16095918417 -0.773111879826,3.57092946768 l-0.00011535658814,6.66993737221 1.26118257642,3.88434410095 l2.23773092031,3.732226789 3.06275784969,3.34774464369 l3.70705157518,2.74497538805 4.19200122356,2.04243674874 l4.60648804903,1.16009183228 4.82164353132,0.346559546888 l4.85705465078,-0.46856187284 4.67804729939,-1.30255714059 l4.22396481037,-2.06189543009 3.67749035358,-2.70488619804 l2.9124763608,-3.24077129364 2.11292609572,-3.73789638281 l1.22385747731,-4.0058645606 0.389578789473,-4.10688310862 l-0.395166948438,-4.06808823347 -2.03144267201,-4.19365376234 l-2.74696111679,-3.68090391159 -3.35527479649,-3.11336934566 l-3.77657920122,-2.39820197225 -4.10039186478,-1.66519939899 l-4.22022551298,-0.929644852877 -4.23147052526,-0.284992158413 l-3.82128596306,0.320291407406 -3.23317825794,0.905640497804 l-2.34930440784,1.56960785389 m6.13138318062,16.7095828056 l-0.719936415553,1.17638163269 -0.0361430016346,3.35672169924 l1.70996874571,2.95245826244 2.10571438074,1.3426668942 l2.49130383134,0.738167464733 2.69166857004,0.112504223362 l2.34241992235,-1.29301711917 1.75146520138,-1.91541656852 l1.06740474701,-2.18215048313 0.356686748564,-2.17146858573 l-0.306813810021,-2.01713651419 -1.91864490509,-1.80962726474 l-2.74145185947,-0.976984575391 -3.70214641094,-9.05096749193e-05 l-2.21886113286,1.41673818231 -1.0569217056,2.1912111342 m3.31286668777,2.92156904936 l-0.00127496110508,9.13770236366e-05 m4.82796519995,-0.242250692099 l-0.00170641360455,8.72614782566e-05 m-6.82623028755,-0.151730859652 l-0.00119594427815,-9.57147790359e-06 m5.99596917629,0.11367588304 l-0.000914006886887,0.000136158987516 m-16.9885921478,-11.680355072 l-0.818383544683,-0.229816455394 m22.6836252213,-1.48830547929 l0.00150344174472,-0.000165050223586 m-29.3880820274,3.16085159779 l-3.24901610613,-5.98880529404 -4.6749702096,-12.1396255493 l0.10100627318,-2.48672604561 2.45123192668,-1.7078320682 l2.37694829702,0.495375953615 6.47590875626,4.74105596542 l5.4493445158,4.70880299807 2.04894557595,1.55856758356 m20.8354377747,0.784763395786 l0.355187766254,-2.05176264048 3.11466038227,-4.65667247772 l6.12619042397,-6.64859414101 1.80937632918,0.92253126204 l0.291855279356,9.25140440464 -0.0302001321688,7.49153196812 l-0.0555114913732,2.07715794444 m-30.3195738792,21.4522743225 l-2.83037006855,0.808310285211 -2.34350711107,1.84400230646 l-3.49290966988,4.2313721776 -2.72830665112,5.57296454906 l-1.28466308117,4.81901556253 -0.337231941521,4.46374237537 l0.522851757705,4.03009414673 1.33307233453,3.76228779554 l2.22003132105,3.50767344236 3.0556127429,2.98304110765 l3.85734289885,2.40282431245 4.55951154232,1.79839834571 l5.22038280964,1.19931094348 5.79709410667,0.56781925261 l6.00298702717,-0.112360613421 6.04290783405,-0.952734276652 l5.68931043148,-1.74580782652 5.14512181282,-2.44568526745 l4.47602778673,-3.17111521959 3.73202204704,-3.75576108694 l2.85150945187,-4.18114542961 1.86040177941,-4.58756119013 l0.776755735278,-4.70811665058 -0.167255941778,-4.60611075163 l-1.02364048362,-4.13730382919 -1.91024109721,-3.71803939342 l-2.63743102551,-3.18669259548 -3.32270681858,-2.57904231548 l-3.85786920786,-1.87214508653 -4.18146580458,-1.13132365048 l-4.41078215837,-0.471304915845 -4.28273439407,0.0765748461708 l-3.89084875584,0.625018998981 -3.32822203636,1.12325668335 m-17.0552754402,35.0428938866 l-1.10362760723,6.38467431068 -2.09086015821,8.7335306406 l-0.828807502985,4.63682770729 m14.5904958248,-15.6632947922 l0.0219103763811,10.053716898 0.203560218215,3.23187142611 \" fill=\"none\" stroke=\"black\" stroke-width=\"1\"/></svg>"
      ],
      "text/plain": [
       "<IPython.core.display.SVG object>"
      ]
     },
     "metadata": {
      "tags": []
     },
     "output_type": "display_data"
    }
   ],
   "source": [
    "z_1 = np.random.randn(eval_model.hps.z_size)\n",
    "_ = decode(z_1)"
   ]
  }
 ],
 "metadata": {
  "colab": {
   "name": "Sketch_RNN.ipynb",
   "provenance": [],
   "version": "0.3.2"
  },
  "kernelspec": {
   "display_name": "Python 3",
   "language": "python",
   "name": "python3"
  }
 },
 "nbformat": 4,
 "nbformat_minor": 1
}
